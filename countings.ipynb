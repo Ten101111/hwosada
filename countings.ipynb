{
  "nbformat": 4,
  "nbformat_minor": 0,
  "metadata": {
    "colab": {
      "provenance": []
    },
    "kernelspec": {
      "name": "python3",
      "display_name": "Python 3"
    },
    "language_info": {
      "name": "python"
    }
  },
  "cells": [
    {
      "cell_type": "markdown",
      "source": [
        "## 2021-2022 Football Player Stats"
      ],
      "metadata": {
        "id": "NLWigYoCKlXW"
      }
    },
    {
      "cell_type": "markdown",
      "source": [
        "1. **Data Preprocessing:** This involves loading each dataset, handling missing values, encoding categorical variables, and splitting the data into features (X) and target (y).\n",
        "\n",
        "2. **Model Training and Parameter Tuning:**\n",
        "\n",
        "- For each model (Decision Tree, Random Forest, CatBoost, Naive Bayes, Logistic Regression, XGBoost, KNN), we'll train the model using the training data.\n",
        "- We'll use cross-validation (at least 5-fold) to tune the model parameters.\n",
        "3. **Model Evaluation:**\n",
        "After training, we'll evaluate each model using accuracy and F1-score.\n",
        "\n",
        "4. **Output the Results:** Provide a summary of the performance of each model on each dataset."
      ],
      "metadata": {
        "id": "cLVyPNWkKtJ1"
      }
    },
    {
      "cell_type": "markdown",
      "source": [
        "we'll use the 'Pos' (position) column as the target variable for classification. The next steps in data preprocessing are:\n",
        "\n",
        "1. **Handle Missing Values:** Check for and handle any missing values in the dataset.\n",
        "2. **Encode Categorical Variables:** Convert categorical variables into a format suitable for machine learning models.\n",
        "3. **Feature Selection:** Select relevant features for the classification task, excluding the target variable and other non-informative columns like player names.\n",
        "4. **Data Splitting:** Split the data into features (X) and target (y), and then into training and testing sets."
      ],
      "metadata": {
        "id": "jJaHrHmoLF6O"
      }
    },
    {
      "cell_type": "code",
      "source": [
        "import pandas as pd\n",
        "\n",
        "football_data = pd.read_csv('2021-2022 Football Player Stats.csv', encoding='ISO-8859-1', delimiter=';')\n",
        "\n",
        "# Display the first few rows and summary information\n",
        "football_data.head()"
      ],
      "metadata": {
        "colab": {
          "base_uri": "https://localhost:8080/",
          "height": 342
        },
        "id": "6t8ETpFmKscN",
        "outputId": "9a14a30c-eb4a-468f-8a3b-6eed3f660a37"
      },
      "execution_count": 45,
      "outputs": [
        {
          "output_type": "execute_result",
          "data": {
            "text/plain": [
              "   Rk             Player Nation Pos          Squad            Comp   Age  \\\n",
              "0   1         Max Aarons    ENG  DF   Norwich City  Premier League  22.0   \n",
              "1   2   Yunis Abdelhamid    MAR  DF          Reims         Ligue 1  34.0   \n",
              "2   3  Salis Abdul Samed    GHA  MF  Clermont Foot         Ligue 1  22.0   \n",
              "3   4    Laurent Abergel    FRA  MF        Lorient         Ligue 1  29.0   \n",
              "4   5        Charles Abi    FRA  FW  Saint-Étienne         Ligue 1  22.0   \n",
              "\n",
              "   Born  MP  Starts  ...   Off   Crs  TklW  PKwon  PKcon    OG  Recov  AerWon  \\\n",
              "0  2000  34      32  ...  0.03  1.41  1.16    0.0   0.06  0.03   5.53    0.47   \n",
              "1  1987  34      34  ...  0.00  0.06  1.39    0.0   0.03  0.00   6.77    2.02   \n",
              "2  2000  31      29  ...  0.00  0.36  1.24    0.0   0.00  0.00   8.76    0.88   \n",
              "3  1993  34      34  ...  0.03  0.79  2.23    0.0   0.00  0.00   8.87    0.43   \n",
              "4  2000   1       1  ...  0.00  2.00  0.00    0.0   0.00  0.00   4.00    2.00   \n",
              "\n",
              "   AerLost  AerWon%  \n",
              "0     1.59     22.7  \n",
              "1     1.36     59.8  \n",
              "2     0.88     50.0  \n",
              "3     0.43     50.0  \n",
              "4     0.00    100.0  \n",
              "\n",
              "[5 rows x 143 columns]"
            ],
            "text/html": [
              "\n",
              "  <div id=\"df-29b2ce46-9b9c-45ae-b1f0-53a4155622d7\" class=\"colab-df-container\">\n",
              "    <div>\n",
              "<style scoped>\n",
              "    .dataframe tbody tr th:only-of-type {\n",
              "        vertical-align: middle;\n",
              "    }\n",
              "\n",
              "    .dataframe tbody tr th {\n",
              "        vertical-align: top;\n",
              "    }\n",
              "\n",
              "    .dataframe thead th {\n",
              "        text-align: right;\n",
              "    }\n",
              "</style>\n",
              "<table border=\"1\" class=\"dataframe\">\n",
              "  <thead>\n",
              "    <tr style=\"text-align: right;\">\n",
              "      <th></th>\n",
              "      <th>Rk</th>\n",
              "      <th>Player</th>\n",
              "      <th>Nation</th>\n",
              "      <th>Pos</th>\n",
              "      <th>Squad</th>\n",
              "      <th>Comp</th>\n",
              "      <th>Age</th>\n",
              "      <th>Born</th>\n",
              "      <th>MP</th>\n",
              "      <th>Starts</th>\n",
              "      <th>...</th>\n",
              "      <th>Off</th>\n",
              "      <th>Crs</th>\n",
              "      <th>TklW</th>\n",
              "      <th>PKwon</th>\n",
              "      <th>PKcon</th>\n",
              "      <th>OG</th>\n",
              "      <th>Recov</th>\n",
              "      <th>AerWon</th>\n",
              "      <th>AerLost</th>\n",
              "      <th>AerWon%</th>\n",
              "    </tr>\n",
              "  </thead>\n",
              "  <tbody>\n",
              "    <tr>\n",
              "      <th>0</th>\n",
              "      <td>1</td>\n",
              "      <td>Max Aarons</td>\n",
              "      <td>ENG</td>\n",
              "      <td>DF</td>\n",
              "      <td>Norwich City</td>\n",
              "      <td>Premier League</td>\n",
              "      <td>22.0</td>\n",
              "      <td>2000</td>\n",
              "      <td>34</td>\n",
              "      <td>32</td>\n",
              "      <td>...</td>\n",
              "      <td>0.03</td>\n",
              "      <td>1.41</td>\n",
              "      <td>1.16</td>\n",
              "      <td>0.0</td>\n",
              "      <td>0.06</td>\n",
              "      <td>0.03</td>\n",
              "      <td>5.53</td>\n",
              "      <td>0.47</td>\n",
              "      <td>1.59</td>\n",
              "      <td>22.7</td>\n",
              "    </tr>\n",
              "    <tr>\n",
              "      <th>1</th>\n",
              "      <td>2</td>\n",
              "      <td>Yunis Abdelhamid</td>\n",
              "      <td>MAR</td>\n",
              "      <td>DF</td>\n",
              "      <td>Reims</td>\n",
              "      <td>Ligue 1</td>\n",
              "      <td>34.0</td>\n",
              "      <td>1987</td>\n",
              "      <td>34</td>\n",
              "      <td>34</td>\n",
              "      <td>...</td>\n",
              "      <td>0.00</td>\n",
              "      <td>0.06</td>\n",
              "      <td>1.39</td>\n",
              "      <td>0.0</td>\n",
              "      <td>0.03</td>\n",
              "      <td>0.00</td>\n",
              "      <td>6.77</td>\n",
              "      <td>2.02</td>\n",
              "      <td>1.36</td>\n",
              "      <td>59.8</td>\n",
              "    </tr>\n",
              "    <tr>\n",
              "      <th>2</th>\n",
              "      <td>3</td>\n",
              "      <td>Salis Abdul Samed</td>\n",
              "      <td>GHA</td>\n",
              "      <td>MF</td>\n",
              "      <td>Clermont Foot</td>\n",
              "      <td>Ligue 1</td>\n",
              "      <td>22.0</td>\n",
              "      <td>2000</td>\n",
              "      <td>31</td>\n",
              "      <td>29</td>\n",
              "      <td>...</td>\n",
              "      <td>0.00</td>\n",
              "      <td>0.36</td>\n",
              "      <td>1.24</td>\n",
              "      <td>0.0</td>\n",
              "      <td>0.00</td>\n",
              "      <td>0.00</td>\n",
              "      <td>8.76</td>\n",
              "      <td>0.88</td>\n",
              "      <td>0.88</td>\n",
              "      <td>50.0</td>\n",
              "    </tr>\n",
              "    <tr>\n",
              "      <th>3</th>\n",
              "      <td>4</td>\n",
              "      <td>Laurent Abergel</td>\n",
              "      <td>FRA</td>\n",
              "      <td>MF</td>\n",
              "      <td>Lorient</td>\n",
              "      <td>Ligue 1</td>\n",
              "      <td>29.0</td>\n",
              "      <td>1993</td>\n",
              "      <td>34</td>\n",
              "      <td>34</td>\n",
              "      <td>...</td>\n",
              "      <td>0.03</td>\n",
              "      <td>0.79</td>\n",
              "      <td>2.23</td>\n",
              "      <td>0.0</td>\n",
              "      <td>0.00</td>\n",
              "      <td>0.00</td>\n",
              "      <td>8.87</td>\n",
              "      <td>0.43</td>\n",
              "      <td>0.43</td>\n",
              "      <td>50.0</td>\n",
              "    </tr>\n",
              "    <tr>\n",
              "      <th>4</th>\n",
              "      <td>5</td>\n",
              "      <td>Charles Abi</td>\n",
              "      <td>FRA</td>\n",
              "      <td>FW</td>\n",
              "      <td>Saint-Étienne</td>\n",
              "      <td>Ligue 1</td>\n",
              "      <td>22.0</td>\n",
              "      <td>2000</td>\n",
              "      <td>1</td>\n",
              "      <td>1</td>\n",
              "      <td>...</td>\n",
              "      <td>0.00</td>\n",
              "      <td>2.00</td>\n",
              "      <td>0.00</td>\n",
              "      <td>0.0</td>\n",
              "      <td>0.00</td>\n",
              "      <td>0.00</td>\n",
              "      <td>4.00</td>\n",
              "      <td>2.00</td>\n",
              "      <td>0.00</td>\n",
              "      <td>100.0</td>\n",
              "    </tr>\n",
              "  </tbody>\n",
              "</table>\n",
              "<p>5 rows × 143 columns</p>\n",
              "</div>\n",
              "    <div class=\"colab-df-buttons\">\n",
              "\n",
              "  <div class=\"colab-df-container\">\n",
              "    <button class=\"colab-df-convert\" onclick=\"convertToInteractive('df-29b2ce46-9b9c-45ae-b1f0-53a4155622d7')\"\n",
              "            title=\"Convert this dataframe to an interactive table.\"\n",
              "            style=\"display:none;\">\n",
              "\n",
              "  <svg xmlns=\"http://www.w3.org/2000/svg\" height=\"24px\" viewBox=\"0 -960 960 960\">\n",
              "    <path d=\"M120-120v-720h720v720H120Zm60-500h600v-160H180v160Zm220 220h160v-160H400v160Zm0 220h160v-160H400v160ZM180-400h160v-160H180v160Zm440 0h160v-160H620v160ZM180-180h160v-160H180v160Zm440 0h160v-160H620v160Z\"/>\n",
              "  </svg>\n",
              "    </button>\n",
              "\n",
              "  <style>\n",
              "    .colab-df-container {\n",
              "      display:flex;\n",
              "      gap: 12px;\n",
              "    }\n",
              "\n",
              "    .colab-df-convert {\n",
              "      background-color: #E8F0FE;\n",
              "      border: none;\n",
              "      border-radius: 50%;\n",
              "      cursor: pointer;\n",
              "      display: none;\n",
              "      fill: #1967D2;\n",
              "      height: 32px;\n",
              "      padding: 0 0 0 0;\n",
              "      width: 32px;\n",
              "    }\n",
              "\n",
              "    .colab-df-convert:hover {\n",
              "      background-color: #E2EBFA;\n",
              "      box-shadow: 0px 1px 2px rgba(60, 64, 67, 0.3), 0px 1px 3px 1px rgba(60, 64, 67, 0.15);\n",
              "      fill: #174EA6;\n",
              "    }\n",
              "\n",
              "    .colab-df-buttons div {\n",
              "      margin-bottom: 4px;\n",
              "    }\n",
              "\n",
              "    [theme=dark] .colab-df-convert {\n",
              "      background-color: #3B4455;\n",
              "      fill: #D2E3FC;\n",
              "    }\n",
              "\n",
              "    [theme=dark] .colab-df-convert:hover {\n",
              "      background-color: #434B5C;\n",
              "      box-shadow: 0px 1px 3px 1px rgba(0, 0, 0, 0.15);\n",
              "      filter: drop-shadow(0px 1px 2px rgba(0, 0, 0, 0.3));\n",
              "      fill: #FFFFFF;\n",
              "    }\n",
              "  </style>\n",
              "\n",
              "    <script>\n",
              "      const buttonEl =\n",
              "        document.querySelector('#df-29b2ce46-9b9c-45ae-b1f0-53a4155622d7 button.colab-df-convert');\n",
              "      buttonEl.style.display =\n",
              "        google.colab.kernel.accessAllowed ? 'block' : 'none';\n",
              "\n",
              "      async function convertToInteractive(key) {\n",
              "        const element = document.querySelector('#df-29b2ce46-9b9c-45ae-b1f0-53a4155622d7');\n",
              "        const dataTable =\n",
              "          await google.colab.kernel.invokeFunction('convertToInteractive',\n",
              "                                                    [key], {});\n",
              "        if (!dataTable) return;\n",
              "\n",
              "        const docLinkHtml = 'Like what you see? Visit the ' +\n",
              "          '<a target=\"_blank\" href=https://colab.research.google.com/notebooks/data_table.ipynb>data table notebook</a>'\n",
              "          + ' to learn more about interactive tables.';\n",
              "        element.innerHTML = '';\n",
              "        dataTable['output_type'] = 'display_data';\n",
              "        await google.colab.output.renderOutput(dataTable, element);\n",
              "        const docLink = document.createElement('div');\n",
              "        docLink.innerHTML = docLinkHtml;\n",
              "        element.appendChild(docLink);\n",
              "      }\n",
              "    </script>\n",
              "  </div>\n",
              "\n",
              "\n",
              "<div id=\"df-3b5e94ca-3ba3-4853-9553-a4f2d951eef1\">\n",
              "  <button class=\"colab-df-quickchart\" onclick=\"quickchart('df-3b5e94ca-3ba3-4853-9553-a4f2d951eef1')\"\n",
              "            title=\"Suggest charts\"\n",
              "            style=\"display:none;\">\n",
              "\n",
              "<svg xmlns=\"http://www.w3.org/2000/svg\" height=\"24px\"viewBox=\"0 0 24 24\"\n",
              "     width=\"24px\">\n",
              "    <g>\n",
              "        <path d=\"M19 3H5c-1.1 0-2 .9-2 2v14c0 1.1.9 2 2 2h14c1.1 0 2-.9 2-2V5c0-1.1-.9-2-2-2zM9 17H7v-7h2v7zm4 0h-2V7h2v10zm4 0h-2v-4h2v4z\"/>\n",
              "    </g>\n",
              "</svg>\n",
              "  </button>\n",
              "\n",
              "<style>\n",
              "  .colab-df-quickchart {\n",
              "      --bg-color: #E8F0FE;\n",
              "      --fill-color: #1967D2;\n",
              "      --hover-bg-color: #E2EBFA;\n",
              "      --hover-fill-color: #174EA6;\n",
              "      --disabled-fill-color: #AAA;\n",
              "      --disabled-bg-color: #DDD;\n",
              "  }\n",
              "\n",
              "  [theme=dark] .colab-df-quickchart {\n",
              "      --bg-color: #3B4455;\n",
              "      --fill-color: #D2E3FC;\n",
              "      --hover-bg-color: #434B5C;\n",
              "      --hover-fill-color: #FFFFFF;\n",
              "      --disabled-bg-color: #3B4455;\n",
              "      --disabled-fill-color: #666;\n",
              "  }\n",
              "\n",
              "  .colab-df-quickchart {\n",
              "    background-color: var(--bg-color);\n",
              "    border: none;\n",
              "    border-radius: 50%;\n",
              "    cursor: pointer;\n",
              "    display: none;\n",
              "    fill: var(--fill-color);\n",
              "    height: 32px;\n",
              "    padding: 0;\n",
              "    width: 32px;\n",
              "  }\n",
              "\n",
              "  .colab-df-quickchart:hover {\n",
              "    background-color: var(--hover-bg-color);\n",
              "    box-shadow: 0 1px 2px rgba(60, 64, 67, 0.3), 0 1px 3px 1px rgba(60, 64, 67, 0.15);\n",
              "    fill: var(--button-hover-fill-color);\n",
              "  }\n",
              "\n",
              "  .colab-df-quickchart-complete:disabled,\n",
              "  .colab-df-quickchart-complete:disabled:hover {\n",
              "    background-color: var(--disabled-bg-color);\n",
              "    fill: var(--disabled-fill-color);\n",
              "    box-shadow: none;\n",
              "  }\n",
              "\n",
              "  .colab-df-spinner {\n",
              "    border: 2px solid var(--fill-color);\n",
              "    border-color: transparent;\n",
              "    border-bottom-color: var(--fill-color);\n",
              "    animation:\n",
              "      spin 1s steps(1) infinite;\n",
              "  }\n",
              "\n",
              "  @keyframes spin {\n",
              "    0% {\n",
              "      border-color: transparent;\n",
              "      border-bottom-color: var(--fill-color);\n",
              "      border-left-color: var(--fill-color);\n",
              "    }\n",
              "    20% {\n",
              "      border-color: transparent;\n",
              "      border-left-color: var(--fill-color);\n",
              "      border-top-color: var(--fill-color);\n",
              "    }\n",
              "    30% {\n",
              "      border-color: transparent;\n",
              "      border-left-color: var(--fill-color);\n",
              "      border-top-color: var(--fill-color);\n",
              "      border-right-color: var(--fill-color);\n",
              "    }\n",
              "    40% {\n",
              "      border-color: transparent;\n",
              "      border-right-color: var(--fill-color);\n",
              "      border-top-color: var(--fill-color);\n",
              "    }\n",
              "    60% {\n",
              "      border-color: transparent;\n",
              "      border-right-color: var(--fill-color);\n",
              "    }\n",
              "    80% {\n",
              "      border-color: transparent;\n",
              "      border-right-color: var(--fill-color);\n",
              "      border-bottom-color: var(--fill-color);\n",
              "    }\n",
              "    90% {\n",
              "      border-color: transparent;\n",
              "      border-bottom-color: var(--fill-color);\n",
              "    }\n",
              "  }\n",
              "</style>\n",
              "\n",
              "  <script>\n",
              "    async function quickchart(key) {\n",
              "      const quickchartButtonEl =\n",
              "        document.querySelector('#' + key + ' button');\n",
              "      quickchartButtonEl.disabled = true;  // To prevent multiple clicks.\n",
              "      quickchartButtonEl.classList.add('colab-df-spinner');\n",
              "      try {\n",
              "        const charts = await google.colab.kernel.invokeFunction(\n",
              "            'suggestCharts', [key], {});\n",
              "      } catch (error) {\n",
              "        console.error('Error during call to suggestCharts:', error);\n",
              "      }\n",
              "      quickchartButtonEl.classList.remove('colab-df-spinner');\n",
              "      quickchartButtonEl.classList.add('colab-df-quickchart-complete');\n",
              "    }\n",
              "    (() => {\n",
              "      let quickchartButtonEl =\n",
              "        document.querySelector('#df-3b5e94ca-3ba3-4853-9553-a4f2d951eef1 button');\n",
              "      quickchartButtonEl.style.display =\n",
              "        google.colab.kernel.accessAllowed ? 'block' : 'none';\n",
              "    })();\n",
              "  </script>\n",
              "</div>\n",
              "\n",
              "    </div>\n",
              "  </div>\n"
            ]
          },
          "metadata": {},
          "execution_count": 45
        }
      ]
    },
    {
      "cell_type": "code",
      "source": [
        "football_data.info()"
      ],
      "metadata": {
        "colab": {
          "base_uri": "https://localhost:8080/"
        },
        "id": "VebUM6mRLse3",
        "outputId": "27320fe8-ce7d-4627-c455-edfec4e5dbec"
      },
      "execution_count": 46,
      "outputs": [
        {
          "output_type": "stream",
          "name": "stdout",
          "text": [
            "<class 'pandas.core.frame.DataFrame'>\n",
            "RangeIndex: 2921 entries, 0 to 2920\n",
            "Columns: 143 entries, Rk to AerWon%\n",
            "dtypes: float64(133), int64(5), object(5)\n",
            "memory usage: 3.2+ MB\n"
          ]
        }
      ]
    },
    {
      "cell_type": "code",
      "source": [
        "football_data.describe()"
      ],
      "metadata": {
        "colab": {
          "base_uri": "https://localhost:8080/",
          "height": 350
        },
        "id": "HzVKko7nKMGa",
        "outputId": "af47f192-460c-4776-dcdd-208b2c6e790b"
      },
      "execution_count": 47,
      "outputs": [
        {
          "output_type": "execute_result",
          "data": {
            "text/plain": [
              "                Rk          Age         Born           MP       Starts  \\\n",
              "count  2921.000000  2920.000000  2921.000000  2921.000000  2921.000000   \n",
              "mean   1461.000000    26.092123  1994.725094    18.800068    13.749743   \n",
              "std     843.364393     4.641746    37.210426    11.619882    11.393763   \n",
              "min       1.000000    16.000000     0.000000     1.000000     0.000000   \n",
              "25%     731.000000    23.000000  1992.000000     8.000000     3.000000   \n",
              "50%    1461.000000    26.000000  1996.000000    20.000000    12.000000   \n",
              "75%    2191.000000    29.000000  1999.000000    29.000000    23.000000   \n",
              "max    2921.000000    41.000000  2006.000000    38.000000    38.000000   \n",
              "\n",
              "               Min          90s        Goals        Shots          SoT  ...  \\\n",
              "count  2921.000000  2921.000000  2921.000000  2921.000000  2921.000000  ...   \n",
              "mean   1234.756248    13.719069     0.111274     1.220431     0.391462  ...   \n",
              "std     977.941288    10.865255     0.233688     1.511266     0.784754  ...   \n",
              "min       1.000000     0.000000     0.000000     0.000000     0.000000  ...   \n",
              "25%     307.000000     3.400000     0.000000     0.280000     0.000000  ...   \n",
              "50%    1102.000000    12.200000     0.000000     0.820000     0.190000  ...   \n",
              "75%    2025.000000    22.500000     0.150000     1.830000     0.560000  ...   \n",
              "max    3420.000000    38.000000     5.000000    20.000000    20.000000  ...   \n",
              "\n",
              "               Off          Crs         TklW       PKwon        PKcon  \\\n",
              "count  2921.000000  2921.000000  2921.000000  2921.00000  2921.000000   \n",
              "mean      0.195029     1.063708     1.026689     0.01519     0.013050   \n",
              "std       0.509935     1.341177     1.028466     0.21167     0.052864   \n",
              "min       0.000000     0.000000     0.000000     0.00000     0.000000   \n",
              "25%       0.000000     0.000000     0.430000     0.00000     0.000000   \n",
              "50%       0.000000     0.590000     0.920000     0.00000     0.000000   \n",
              "75%       0.200000     1.700000     1.410000     0.00000     0.000000   \n",
              "max      10.000000    15.000000    10.000000    10.00000     1.430000   \n",
              "\n",
              "                OG        Recov       AerWon      AerLost      AerWon%  \n",
              "count  2921.000000  2921.000000  2921.000000  2921.000000  2921.000000  \n",
              "mean      0.003451     7.410294     1.664286     1.858305    40.485861  \n",
              "std       0.020306     3.650554     1.938046     2.245096    24.297290  \n",
              "min       0.000000     0.000000     0.000000     0.000000     0.000000  \n",
              "25%       0.000000     5.070000     0.520000     0.840000    26.200000  \n",
              "50%       0.000000     7.380000     1.230000     1.390000    43.500000  \n",
              "75%       0.000000     9.380000     2.270000     2.210000    57.100000  \n",
              "max       0.500000    40.000000    30.000000    40.000000   100.000000  \n",
              "\n",
              "[8 rows x 138 columns]"
            ],
            "text/html": [
              "\n",
              "  <div id=\"df-5860f401-b014-4339-bae9-964f61fb6e8a\" class=\"colab-df-container\">\n",
              "    <div>\n",
              "<style scoped>\n",
              "    .dataframe tbody tr th:only-of-type {\n",
              "        vertical-align: middle;\n",
              "    }\n",
              "\n",
              "    .dataframe tbody tr th {\n",
              "        vertical-align: top;\n",
              "    }\n",
              "\n",
              "    .dataframe thead th {\n",
              "        text-align: right;\n",
              "    }\n",
              "</style>\n",
              "<table border=\"1\" class=\"dataframe\">\n",
              "  <thead>\n",
              "    <tr style=\"text-align: right;\">\n",
              "      <th></th>\n",
              "      <th>Rk</th>\n",
              "      <th>Age</th>\n",
              "      <th>Born</th>\n",
              "      <th>MP</th>\n",
              "      <th>Starts</th>\n",
              "      <th>Min</th>\n",
              "      <th>90s</th>\n",
              "      <th>Goals</th>\n",
              "      <th>Shots</th>\n",
              "      <th>SoT</th>\n",
              "      <th>...</th>\n",
              "      <th>Off</th>\n",
              "      <th>Crs</th>\n",
              "      <th>TklW</th>\n",
              "      <th>PKwon</th>\n",
              "      <th>PKcon</th>\n",
              "      <th>OG</th>\n",
              "      <th>Recov</th>\n",
              "      <th>AerWon</th>\n",
              "      <th>AerLost</th>\n",
              "      <th>AerWon%</th>\n",
              "    </tr>\n",
              "  </thead>\n",
              "  <tbody>\n",
              "    <tr>\n",
              "      <th>count</th>\n",
              "      <td>2921.000000</td>\n",
              "      <td>2920.000000</td>\n",
              "      <td>2921.000000</td>\n",
              "      <td>2921.000000</td>\n",
              "      <td>2921.000000</td>\n",
              "      <td>2921.000000</td>\n",
              "      <td>2921.000000</td>\n",
              "      <td>2921.000000</td>\n",
              "      <td>2921.000000</td>\n",
              "      <td>2921.000000</td>\n",
              "      <td>...</td>\n",
              "      <td>2921.000000</td>\n",
              "      <td>2921.000000</td>\n",
              "      <td>2921.000000</td>\n",
              "      <td>2921.00000</td>\n",
              "      <td>2921.000000</td>\n",
              "      <td>2921.000000</td>\n",
              "      <td>2921.000000</td>\n",
              "      <td>2921.000000</td>\n",
              "      <td>2921.000000</td>\n",
              "      <td>2921.000000</td>\n",
              "    </tr>\n",
              "    <tr>\n",
              "      <th>mean</th>\n",
              "      <td>1461.000000</td>\n",
              "      <td>26.092123</td>\n",
              "      <td>1994.725094</td>\n",
              "      <td>18.800068</td>\n",
              "      <td>13.749743</td>\n",
              "      <td>1234.756248</td>\n",
              "      <td>13.719069</td>\n",
              "      <td>0.111274</td>\n",
              "      <td>1.220431</td>\n",
              "      <td>0.391462</td>\n",
              "      <td>...</td>\n",
              "      <td>0.195029</td>\n",
              "      <td>1.063708</td>\n",
              "      <td>1.026689</td>\n",
              "      <td>0.01519</td>\n",
              "      <td>0.013050</td>\n",
              "      <td>0.003451</td>\n",
              "      <td>7.410294</td>\n",
              "      <td>1.664286</td>\n",
              "      <td>1.858305</td>\n",
              "      <td>40.485861</td>\n",
              "    </tr>\n",
              "    <tr>\n",
              "      <th>std</th>\n",
              "      <td>843.364393</td>\n",
              "      <td>4.641746</td>\n",
              "      <td>37.210426</td>\n",
              "      <td>11.619882</td>\n",
              "      <td>11.393763</td>\n",
              "      <td>977.941288</td>\n",
              "      <td>10.865255</td>\n",
              "      <td>0.233688</td>\n",
              "      <td>1.511266</td>\n",
              "      <td>0.784754</td>\n",
              "      <td>...</td>\n",
              "      <td>0.509935</td>\n",
              "      <td>1.341177</td>\n",
              "      <td>1.028466</td>\n",
              "      <td>0.21167</td>\n",
              "      <td>0.052864</td>\n",
              "      <td>0.020306</td>\n",
              "      <td>3.650554</td>\n",
              "      <td>1.938046</td>\n",
              "      <td>2.245096</td>\n",
              "      <td>24.297290</td>\n",
              "    </tr>\n",
              "    <tr>\n",
              "      <th>min</th>\n",
              "      <td>1.000000</td>\n",
              "      <td>16.000000</td>\n",
              "      <td>0.000000</td>\n",
              "      <td>1.000000</td>\n",
              "      <td>0.000000</td>\n",
              "      <td>1.000000</td>\n",
              "      <td>0.000000</td>\n",
              "      <td>0.000000</td>\n",
              "      <td>0.000000</td>\n",
              "      <td>0.000000</td>\n",
              "      <td>...</td>\n",
              "      <td>0.000000</td>\n",
              "      <td>0.000000</td>\n",
              "      <td>0.000000</td>\n",
              "      <td>0.00000</td>\n",
              "      <td>0.000000</td>\n",
              "      <td>0.000000</td>\n",
              "      <td>0.000000</td>\n",
              "      <td>0.000000</td>\n",
              "      <td>0.000000</td>\n",
              "      <td>0.000000</td>\n",
              "    </tr>\n",
              "    <tr>\n",
              "      <th>25%</th>\n",
              "      <td>731.000000</td>\n",
              "      <td>23.000000</td>\n",
              "      <td>1992.000000</td>\n",
              "      <td>8.000000</td>\n",
              "      <td>3.000000</td>\n",
              "      <td>307.000000</td>\n",
              "      <td>3.400000</td>\n",
              "      <td>0.000000</td>\n",
              "      <td>0.280000</td>\n",
              "      <td>0.000000</td>\n",
              "      <td>...</td>\n",
              "      <td>0.000000</td>\n",
              "      <td>0.000000</td>\n",
              "      <td>0.430000</td>\n",
              "      <td>0.00000</td>\n",
              "      <td>0.000000</td>\n",
              "      <td>0.000000</td>\n",
              "      <td>5.070000</td>\n",
              "      <td>0.520000</td>\n",
              "      <td>0.840000</td>\n",
              "      <td>26.200000</td>\n",
              "    </tr>\n",
              "    <tr>\n",
              "      <th>50%</th>\n",
              "      <td>1461.000000</td>\n",
              "      <td>26.000000</td>\n",
              "      <td>1996.000000</td>\n",
              "      <td>20.000000</td>\n",
              "      <td>12.000000</td>\n",
              "      <td>1102.000000</td>\n",
              "      <td>12.200000</td>\n",
              "      <td>0.000000</td>\n",
              "      <td>0.820000</td>\n",
              "      <td>0.190000</td>\n",
              "      <td>...</td>\n",
              "      <td>0.000000</td>\n",
              "      <td>0.590000</td>\n",
              "      <td>0.920000</td>\n",
              "      <td>0.00000</td>\n",
              "      <td>0.000000</td>\n",
              "      <td>0.000000</td>\n",
              "      <td>7.380000</td>\n",
              "      <td>1.230000</td>\n",
              "      <td>1.390000</td>\n",
              "      <td>43.500000</td>\n",
              "    </tr>\n",
              "    <tr>\n",
              "      <th>75%</th>\n",
              "      <td>2191.000000</td>\n",
              "      <td>29.000000</td>\n",
              "      <td>1999.000000</td>\n",
              "      <td>29.000000</td>\n",
              "      <td>23.000000</td>\n",
              "      <td>2025.000000</td>\n",
              "      <td>22.500000</td>\n",
              "      <td>0.150000</td>\n",
              "      <td>1.830000</td>\n",
              "      <td>0.560000</td>\n",
              "      <td>...</td>\n",
              "      <td>0.200000</td>\n",
              "      <td>1.700000</td>\n",
              "      <td>1.410000</td>\n",
              "      <td>0.00000</td>\n",
              "      <td>0.000000</td>\n",
              "      <td>0.000000</td>\n",
              "      <td>9.380000</td>\n",
              "      <td>2.270000</td>\n",
              "      <td>2.210000</td>\n",
              "      <td>57.100000</td>\n",
              "    </tr>\n",
              "    <tr>\n",
              "      <th>max</th>\n",
              "      <td>2921.000000</td>\n",
              "      <td>41.000000</td>\n",
              "      <td>2006.000000</td>\n",
              "      <td>38.000000</td>\n",
              "      <td>38.000000</td>\n",
              "      <td>3420.000000</td>\n",
              "      <td>38.000000</td>\n",
              "      <td>5.000000</td>\n",
              "      <td>20.000000</td>\n",
              "      <td>20.000000</td>\n",
              "      <td>...</td>\n",
              "      <td>10.000000</td>\n",
              "      <td>15.000000</td>\n",
              "      <td>10.000000</td>\n",
              "      <td>10.00000</td>\n",
              "      <td>1.430000</td>\n",
              "      <td>0.500000</td>\n",
              "      <td>40.000000</td>\n",
              "      <td>30.000000</td>\n",
              "      <td>40.000000</td>\n",
              "      <td>100.000000</td>\n",
              "    </tr>\n",
              "  </tbody>\n",
              "</table>\n",
              "<p>8 rows × 138 columns</p>\n",
              "</div>\n",
              "    <div class=\"colab-df-buttons\">\n",
              "\n",
              "  <div class=\"colab-df-container\">\n",
              "    <button class=\"colab-df-convert\" onclick=\"convertToInteractive('df-5860f401-b014-4339-bae9-964f61fb6e8a')\"\n",
              "            title=\"Convert this dataframe to an interactive table.\"\n",
              "            style=\"display:none;\">\n",
              "\n",
              "  <svg xmlns=\"http://www.w3.org/2000/svg\" height=\"24px\" viewBox=\"0 -960 960 960\">\n",
              "    <path d=\"M120-120v-720h720v720H120Zm60-500h600v-160H180v160Zm220 220h160v-160H400v160Zm0 220h160v-160H400v160ZM180-400h160v-160H180v160Zm440 0h160v-160H620v160ZM180-180h160v-160H180v160Zm440 0h160v-160H620v160Z\"/>\n",
              "  </svg>\n",
              "    </button>\n",
              "\n",
              "  <style>\n",
              "    .colab-df-container {\n",
              "      display:flex;\n",
              "      gap: 12px;\n",
              "    }\n",
              "\n",
              "    .colab-df-convert {\n",
              "      background-color: #E8F0FE;\n",
              "      border: none;\n",
              "      border-radius: 50%;\n",
              "      cursor: pointer;\n",
              "      display: none;\n",
              "      fill: #1967D2;\n",
              "      height: 32px;\n",
              "      padding: 0 0 0 0;\n",
              "      width: 32px;\n",
              "    }\n",
              "\n",
              "    .colab-df-convert:hover {\n",
              "      background-color: #E2EBFA;\n",
              "      box-shadow: 0px 1px 2px rgba(60, 64, 67, 0.3), 0px 1px 3px 1px rgba(60, 64, 67, 0.15);\n",
              "      fill: #174EA6;\n",
              "    }\n",
              "\n",
              "    .colab-df-buttons div {\n",
              "      margin-bottom: 4px;\n",
              "    }\n",
              "\n",
              "    [theme=dark] .colab-df-convert {\n",
              "      background-color: #3B4455;\n",
              "      fill: #D2E3FC;\n",
              "    }\n",
              "\n",
              "    [theme=dark] .colab-df-convert:hover {\n",
              "      background-color: #434B5C;\n",
              "      box-shadow: 0px 1px 3px 1px rgba(0, 0, 0, 0.15);\n",
              "      filter: drop-shadow(0px 1px 2px rgba(0, 0, 0, 0.3));\n",
              "      fill: #FFFFFF;\n",
              "    }\n",
              "  </style>\n",
              "\n",
              "    <script>\n",
              "      const buttonEl =\n",
              "        document.querySelector('#df-5860f401-b014-4339-bae9-964f61fb6e8a button.colab-df-convert');\n",
              "      buttonEl.style.display =\n",
              "        google.colab.kernel.accessAllowed ? 'block' : 'none';\n",
              "\n",
              "      async function convertToInteractive(key) {\n",
              "        const element = document.querySelector('#df-5860f401-b014-4339-bae9-964f61fb6e8a');\n",
              "        const dataTable =\n",
              "          await google.colab.kernel.invokeFunction('convertToInteractive',\n",
              "                                                    [key], {});\n",
              "        if (!dataTable) return;\n",
              "\n",
              "        const docLinkHtml = 'Like what you see? Visit the ' +\n",
              "          '<a target=\"_blank\" href=https://colab.research.google.com/notebooks/data_table.ipynb>data table notebook</a>'\n",
              "          + ' to learn more about interactive tables.';\n",
              "        element.innerHTML = '';\n",
              "        dataTable['output_type'] = 'display_data';\n",
              "        await google.colab.output.renderOutput(dataTable, element);\n",
              "        const docLink = document.createElement('div');\n",
              "        docLink.innerHTML = docLinkHtml;\n",
              "        element.appendChild(docLink);\n",
              "      }\n",
              "    </script>\n",
              "  </div>\n",
              "\n",
              "\n",
              "<div id=\"df-1f2e1198-d1c9-4300-88e8-f21726ea4b3a\">\n",
              "  <button class=\"colab-df-quickchart\" onclick=\"quickchart('df-1f2e1198-d1c9-4300-88e8-f21726ea4b3a')\"\n",
              "            title=\"Suggest charts\"\n",
              "            style=\"display:none;\">\n",
              "\n",
              "<svg xmlns=\"http://www.w3.org/2000/svg\" height=\"24px\"viewBox=\"0 0 24 24\"\n",
              "     width=\"24px\">\n",
              "    <g>\n",
              "        <path d=\"M19 3H5c-1.1 0-2 .9-2 2v14c0 1.1.9 2 2 2h14c1.1 0 2-.9 2-2V5c0-1.1-.9-2-2-2zM9 17H7v-7h2v7zm4 0h-2V7h2v10zm4 0h-2v-4h2v4z\"/>\n",
              "    </g>\n",
              "</svg>\n",
              "  </button>\n",
              "\n",
              "<style>\n",
              "  .colab-df-quickchart {\n",
              "      --bg-color: #E8F0FE;\n",
              "      --fill-color: #1967D2;\n",
              "      --hover-bg-color: #E2EBFA;\n",
              "      --hover-fill-color: #174EA6;\n",
              "      --disabled-fill-color: #AAA;\n",
              "      --disabled-bg-color: #DDD;\n",
              "  }\n",
              "\n",
              "  [theme=dark] .colab-df-quickchart {\n",
              "      --bg-color: #3B4455;\n",
              "      --fill-color: #D2E3FC;\n",
              "      --hover-bg-color: #434B5C;\n",
              "      --hover-fill-color: #FFFFFF;\n",
              "      --disabled-bg-color: #3B4455;\n",
              "      --disabled-fill-color: #666;\n",
              "  }\n",
              "\n",
              "  .colab-df-quickchart {\n",
              "    background-color: var(--bg-color);\n",
              "    border: none;\n",
              "    border-radius: 50%;\n",
              "    cursor: pointer;\n",
              "    display: none;\n",
              "    fill: var(--fill-color);\n",
              "    height: 32px;\n",
              "    padding: 0;\n",
              "    width: 32px;\n",
              "  }\n",
              "\n",
              "  .colab-df-quickchart:hover {\n",
              "    background-color: var(--hover-bg-color);\n",
              "    box-shadow: 0 1px 2px rgba(60, 64, 67, 0.3), 0 1px 3px 1px rgba(60, 64, 67, 0.15);\n",
              "    fill: var(--button-hover-fill-color);\n",
              "  }\n",
              "\n",
              "  .colab-df-quickchart-complete:disabled,\n",
              "  .colab-df-quickchart-complete:disabled:hover {\n",
              "    background-color: var(--disabled-bg-color);\n",
              "    fill: var(--disabled-fill-color);\n",
              "    box-shadow: none;\n",
              "  }\n",
              "\n",
              "  .colab-df-spinner {\n",
              "    border: 2px solid var(--fill-color);\n",
              "    border-color: transparent;\n",
              "    border-bottom-color: var(--fill-color);\n",
              "    animation:\n",
              "      spin 1s steps(1) infinite;\n",
              "  }\n",
              "\n",
              "  @keyframes spin {\n",
              "    0% {\n",
              "      border-color: transparent;\n",
              "      border-bottom-color: var(--fill-color);\n",
              "      border-left-color: var(--fill-color);\n",
              "    }\n",
              "    20% {\n",
              "      border-color: transparent;\n",
              "      border-left-color: var(--fill-color);\n",
              "      border-top-color: var(--fill-color);\n",
              "    }\n",
              "    30% {\n",
              "      border-color: transparent;\n",
              "      border-left-color: var(--fill-color);\n",
              "      border-top-color: var(--fill-color);\n",
              "      border-right-color: var(--fill-color);\n",
              "    }\n",
              "    40% {\n",
              "      border-color: transparent;\n",
              "      border-right-color: var(--fill-color);\n",
              "      border-top-color: var(--fill-color);\n",
              "    }\n",
              "    60% {\n",
              "      border-color: transparent;\n",
              "      border-right-color: var(--fill-color);\n",
              "    }\n",
              "    80% {\n",
              "      border-color: transparent;\n",
              "      border-right-color: var(--fill-color);\n",
              "      border-bottom-color: var(--fill-color);\n",
              "    }\n",
              "    90% {\n",
              "      border-color: transparent;\n",
              "      border-bottom-color: var(--fill-color);\n",
              "    }\n",
              "  }\n",
              "</style>\n",
              "\n",
              "  <script>\n",
              "    async function quickchart(key) {\n",
              "      const quickchartButtonEl =\n",
              "        document.querySelector('#' + key + ' button');\n",
              "      quickchartButtonEl.disabled = true;  // To prevent multiple clicks.\n",
              "      quickchartButtonEl.classList.add('colab-df-spinner');\n",
              "      try {\n",
              "        const charts = await google.colab.kernel.invokeFunction(\n",
              "            'suggestCharts', [key], {});\n",
              "      } catch (error) {\n",
              "        console.error('Error during call to suggestCharts:', error);\n",
              "      }\n",
              "      quickchartButtonEl.classList.remove('colab-df-spinner');\n",
              "      quickchartButtonEl.classList.add('colab-df-quickchart-complete');\n",
              "    }\n",
              "    (() => {\n",
              "      let quickchartButtonEl =\n",
              "        document.querySelector('#df-1f2e1198-d1c9-4300-88e8-f21726ea4b3a button');\n",
              "      quickchartButtonEl.style.display =\n",
              "        google.colab.kernel.accessAllowed ? 'block' : 'none';\n",
              "    })();\n",
              "  </script>\n",
              "</div>\n",
              "\n",
              "    </div>\n",
              "  </div>\n"
            ]
          },
          "metadata": {},
          "execution_count": 47
        }
      ]
    },
    {
      "cell_type": "code",
      "execution_count": 48,
      "metadata": {
        "colab": {
          "base_uri": "https://localhost:8080/"
        },
        "id": "UfKg-9D9JgW0",
        "outputId": "3461b637-6069-41d7-e256-845865d4b49a"
      },
      "outputs": [
        {
          "output_type": "execute_result",
          "data": {
            "text/plain": [
              "((2336, 137), (585, 137), (2336,), (585,))"
            ]
          },
          "metadata": {},
          "execution_count": 48
        }
      ],
      "source": [
        "from sklearn.model_selection import train_test_split\n",
        "from sklearn.preprocessing import LabelEncoder\n",
        "import numpy as np\n",
        "\n",
        "# Handling missing values\n",
        "# For simplicity, we'll fill numeric columns with the median and categorical with the mode\n",
        "football_data_filled = football_data.fillna(football_data.median(numeric_only=True))\n",
        "for column in football_data_filled.select_dtypes(include=['object']):\n",
        "    football_data_filled[column].fillna(football_data_filled[column].mode()[0], inplace=True)\n",
        "\n",
        "# Encoding categorical variables\n",
        "le = LabelEncoder()\n",
        "for column in football_data_filled.select_dtypes(include=['object']):\n",
        "    football_data_filled[column] = le.fit_transform(football_data_filled[column])\n",
        "\n",
        "# Feature Selection\n",
        "# Removing non-informative columns like 'Player', 'Nation', 'Squad', 'Comp', 'Rk'\n",
        "features = football_data_filled.drop(columns=['Player', 'Nation', 'Squad', 'Comp', 'Rk', 'Pos'])\n",
        "target = football_data_filled['Pos']\n",
        "\n",
        "# Splitting data into training and testing sets\n",
        "X_train, X_test, y_train, y_test = train_test_split(features, target, test_size=0.2, random_state=42)\n",
        "\n",
        "X_train.shape, X_test.shape, y_train.shape, y_test.shape\n"
      ]
    },
    {
      "cell_type": "markdown",
      "source": [
        "The data preprocessing for the \"2021-2022 Football Player Stats\" dataset is complete. We've handled missing values, encoded categorical variables, performed feature selection (excluding non-informative columns like 'Player', 'Nation', 'Squad', 'Comp', 'Rk'), and split the data into training and testing sets.\n",
        "\n",
        "The dataset is now divided as follows:\n",
        "\n",
        "- Training Features: 2336 samples, 137 features\n",
        "- Testing Features: 585 samples, 137 features\n",
        "- Training Targets: 2336 samples\n",
        "- Testing Targets: 585 samples"
      ],
      "metadata": {
        "id": "ubwDrdgxMA3Q"
      }
    },
    {
      "cell_type": "markdown",
      "source": [
        "# **DecisionTreeClassifier**"
      ],
      "metadata": {
        "id": "Uh8ffR-TMJz_"
      }
    },
    {
      "cell_type": "code",
      "source": [
        "from sklearn.tree import DecisionTreeClassifier\n",
        "from sklearn.model_selection import cross_val_score\n",
        "from sklearn.metrics import make_scorer, accuracy_score, f1_score\n",
        "\n",
        "# Initialize the Decision Tree Classifier\n",
        "dt_classifier = DecisionTreeClassifier(random_state=42)\n",
        "\n",
        "# Define scorers for cross-validation\n",
        "accuracy_scorer = make_scorer(accuracy_score)\n",
        "f1_scorer = make_scorer(f1_score, average='weighted')\n",
        "\n",
        "# Perform 5-fold cross-validation for accuracy and F1-score\n",
        "dt_accuracy_scores = cross_val_score(dt_classifier, X_train, y_train, cv=5, scoring=accuracy_scorer)\n",
        "dt_f1_scores = cross_val_score(dt_classifier, X_train, y_train, cv=5, scoring=f1_scorer)\n",
        "\n",
        "# Calculate average scores\n",
        "dt_avg_accuracy = np.mean(dt_accuracy_scores)\n",
        "dt_avg_f1_score = np.mean(dt_f1_scores)\n",
        "\n",
        "dt_avg_accuracy, dt_avg_f1_score"
      ],
      "metadata": {
        "colab": {
          "base_uri": "https://localhost:8080/"
        },
        "id": "1TxgO8B_MDqQ",
        "outputId": "ab783350-e75b-4626-fcbd-b9ba471f24f8"
      },
      "execution_count": 5,
      "outputs": [
        {
          "output_type": "stream",
          "name": "stderr",
          "text": [
            "/usr/local/lib/python3.10/dist-packages/sklearn/model_selection/_split.py:700: UserWarning: The least populated class in y has only 1 members, which is less than n_splits=5.\n",
            "  warnings.warn(\n",
            "/usr/local/lib/python3.10/dist-packages/sklearn/model_selection/_split.py:700: UserWarning: The least populated class in y has only 1 members, which is less than n_splits=5.\n",
            "  warnings.warn(\n"
          ]
        },
        {
          "output_type": "execute_result",
          "data": {
            "text/plain": [
              "(0.6429738831237761, 0.6452571820720376)"
            ]
          },
          "metadata": {},
          "execution_count": 5
        }
      ]
    },
    {
      "cell_type": "markdown",
      "source": [
        "The Decision Tree model's performance on the \"2021-2022 Football Player Stats\" dataset, evaluated using 5-fold cross-validation, is as follows:\n",
        "\n",
        "- Average Accuracy: 64.30%\n",
        "- Average F1-Score: 64.53%\n"
      ],
      "metadata": {
        "id": "zZeDT2uxMVPB"
      }
    },
    {
      "cell_type": "markdown",
      "source": [
        "# **Random Forest Classifier**"
      ],
      "metadata": {
        "id": "vEgTw9y8Mx1K"
      }
    },
    {
      "cell_type": "code",
      "source": [
        "from sklearn.ensemble import RandomForestClassifier\n",
        "\n",
        "# Initialize the Random Forest Classifier\n",
        "rf_classifier = RandomForestClassifier(random_state=42)\n",
        "\n",
        "# Perform 5-fold cross-validation for accuracy and F1-score\n",
        "rf_accuracy_scores = cross_val_score(rf_classifier, X_train, y_train, cv=5, scoring=accuracy_scorer)\n",
        "rf_f1_scores = cross_val_score(rf_classifier, X_train, y_train, cv=5, scoring=f1_scorer)\n",
        "\n",
        "# Calculate average scores\n",
        "rf_avg_accuracy = np.mean(rf_accuracy_scores)\n",
        "rf_avg_f1_score = np.mean(rf_f1_scores)\n",
        "\n",
        "rf_avg_accuracy, rf_avg_f1_score\n",
        "\n"
      ],
      "metadata": {
        "colab": {
          "base_uri": "https://localhost:8080/"
        },
        "id": "NpYPvs6XMuJR",
        "outputId": "0b22a3f0-fa7e-4574-e8d2-2ae1037537ae"
      },
      "execution_count": 6,
      "outputs": [
        {
          "output_type": "stream",
          "name": "stderr",
          "text": [
            "/usr/local/lib/python3.10/dist-packages/sklearn/model_selection/_split.py:700: UserWarning: The least populated class in y has only 1 members, which is less than n_splits=5.\n",
            "  warnings.warn(\n",
            "/usr/local/lib/python3.10/dist-packages/sklearn/model_selection/_split.py:700: UserWarning: The least populated class in y has only 1 members, which is less than n_splits=5.\n",
            "  warnings.warn(\n"
          ]
        },
        {
          "output_type": "execute_result",
          "data": {
            "text/plain": [
              "(0.7410045937883197, 0.7084425364465041)"
            ]
          },
          "metadata": {},
          "execution_count": 6
        }
      ]
    },
    {
      "cell_type": "markdown",
      "source": [
        "The Random Forest model's performance on the \"2021-2022 Football Player Stats\" dataset, evaluated using 5-fold cross-validation, is as follows:\n",
        "\n",
        "- Average Accuracy: 74.10%\n",
        "- Average F1-Score: 70.84%"
      ],
      "metadata": {
        "id": "cf_0y_mTM4Aq"
      }
    },
    {
      "cell_type": "markdown",
      "source": [
        "# **Gaussian Naive Bayes Classifier**"
      ],
      "metadata": {
        "id": "gmq__WC_OF0T"
      }
    },
    {
      "cell_type": "code",
      "source": [
        "from sklearn.naive_bayes import GaussianNB\n",
        "\n",
        "# Initialize Gaussian Naive Bayes Classifier\n",
        "nb_classifier = GaussianNB()\n",
        "\n",
        "# Perform 5-fold cross-validation for accuracy and F1-score\n",
        "nb_accuracy_scores = cross_val_score(nb_classifier, X_train, y_train, cv=5, scoring=accuracy_scorer)\n",
        "nb_f1_scores = cross_val_score(nb_classifier, X_train, y_train, cv=5, scoring=f1_scorer)\n",
        "\n",
        "# Calculate average scores\n",
        "nb_avg_accuracy = np.mean(nb_accuracy_scores)\n",
        "nb_avg_f1_score = np.mean(nb_f1_scores)\n",
        "\n",
        "nb_avg_accuracy, nb_avg_f1_score\n",
        "\n"
      ],
      "metadata": {
        "colab": {
          "base_uri": "https://localhost:8080/"
        },
        "id": "MMX8z_BiN9c0",
        "outputId": "45bb9bfc-c84f-426b-d0bf-e9585a61068b"
      },
      "execution_count": 7,
      "outputs": [
        {
          "output_type": "stream",
          "name": "stderr",
          "text": [
            "/usr/local/lib/python3.10/dist-packages/sklearn/model_selection/_split.py:700: UserWarning: The least populated class in y has only 1 members, which is less than n_splits=5.\n",
            "  warnings.warn(\n",
            "/usr/local/lib/python3.10/dist-packages/sklearn/model_selection/_split.py:700: UserWarning: The least populated class in y has only 1 members, which is less than n_splits=5.\n",
            "  warnings.warn(\n"
          ]
        },
        {
          "output_type": "execute_result",
          "data": {
            "text/plain": [
              "(0.45975585204707264, 0.5035049736554909)"
            ]
          },
          "metadata": {},
          "execution_count": 7
        }
      ]
    },
    {
      "cell_type": "code",
      "source": [
        "!pip install xgboost\n",
        "!pip install catboost"
      ],
      "metadata": {
        "colab": {
          "base_uri": "https://localhost:8080/"
        },
        "id": "ni6NpaeMJe3V",
        "outputId": "b8b719fa-174f-47b1-9ca2-2027f75c48fb"
      },
      "execution_count": 8,
      "outputs": [
        {
          "output_type": "stream",
          "name": "stdout",
          "text": [
            "Installing collected packages: catboost\n",
            "Successfully installed catboost-1.2.2\n"
          ]
        }
      ]
    },
    {
      "cell_type": "markdown",
      "source": [
        "# **XGBoost Classifier**"
      ],
      "metadata": {
        "id": "VNtu64GNJxOv"
      }
    },
    {
      "cell_type": "code",
      "source": [
        "from xgboost import XGBClassifier\n",
        "\n",
        "\n",
        "le_y_train = LabelEncoder()\n",
        "y_train_encoded = le_y_train.fit_transform(y_train)\n",
        "\n",
        "# Initialize XGBoost Classifier\n",
        "xgb_classifier = XGBClassifier(random_state=42)\n",
        "\n",
        "# Perform 5-fold cross-validation\n",
        "xgb_accuracy_scores = cross_val_score(xgb_classifier, X_train, y_train_encoded, cv=5, scoring=accuracy_scorer)\n",
        "xgb_f1_scores = cross_val_score(xgb_classifier, X_train, y_train_encoded, cv=5, scoring=f1_scorer)\n",
        "\n",
        "# Calculate average scores\n",
        "xgb_avg_accuracy = np.mean(xgb_accuracy_scores)\n",
        "xgb_avg_f1_score = np.mean(xgb_f1_scores)\n",
        "\n",
        "xgb_avg_accuracy, xgb_avg_f1_score\n",
        "\n"
      ],
      "metadata": {
        "id": "K6sdoRgFJtSg"
      },
      "execution_count": null,
      "outputs": []
    },
    {
      "cell_type": "markdown",
      "source": [
        "# **CatBoost Classifier**"
      ],
      "metadata": {
        "id": "z49srxC7J_KD"
      }
    },
    {
      "cell_type": "code",
      "source": [
        "from catboost import CatBoostClassifier\n",
        "\n",
        "# Initialize CatBoost Classifier\n",
        "catboost_classifier = CatBoostClassifier(random_state=42, verbose=0)  # verbose=0 to avoid lengthy outputs\n",
        "\n",
        "# Perform 5-fold cross-validation\n",
        "catboost_accuracy_scores = cross_val_score(catboost_classifier, X_train, y_train, cv=5, scoring=accuracy_scorer)\n",
        "catboost_f1_scores = cross_val_score(catboost_classifier, X_train, y_train, cv=5, scoring=f1_scorer)\n",
        "\n",
        "# Calculate average scores\n",
        "catboost_avg_accuracy = np.mean(catboost_accuracy_scores)\n",
        "catboost_avg_f1_score = np.mean(catboost_f1_scores)\n",
        "\n",
        "catboost_avg_accuracy, catboost_avg_f1_score\n"
      ],
      "metadata": {
        "colab": {
          "base_uri": "https://localhost:8080/"
        },
        "id": "ohP-noUwKBE9",
        "outputId": "458145d3-bc41-4aa1-fcf2-359ab8ebb145"
      },
      "execution_count": 10,
      "outputs": [
        {
          "output_type": "stream",
          "name": "stderr",
          "text": [
            "/usr/local/lib/python3.10/dist-packages/sklearn/model_selection/_split.py:700: UserWarning: The least populated class in y has only 1 members, which is less than n_splits=5.\n",
            "  warnings.warn(\n",
            "/usr/local/lib/python3.10/dist-packages/sklearn/model_selection/_split.py:700: UserWarning: The least populated class in y has only 1 members, which is less than n_splits=5.\n",
            "  warnings.warn(\n"
          ]
        },
        {
          "output_type": "execute_result",
          "data": {
            "text/plain": [
              "(0.7521404125258515, 0.7259391707790144)"
            ]
          },
          "metadata": {},
          "execution_count": 10
        }
      ]
    },
    {
      "cell_type": "markdown",
      "source": [
        "# **KNN Classifier**"
      ],
      "metadata": {
        "id": "Rrc4RsK1KPvz"
      }
    },
    {
      "cell_type": "code",
      "source": [
        "from sklearn.neighbors import KNeighborsClassifier\n",
        "\n",
        "# Initialize KNN Classifier\n",
        "knn_classifier = KNeighborsClassifier()\n",
        "\n",
        "# Perform 5-fold cross-validation\n",
        "knn_accuracy_scores = cross_val_score(knn_classifier, X_train, y_train, cv=5, scoring=accuracy_scorer)\n",
        "knn_f1_scores = cross_val_score(knn_classifier, X_train, y_train, cv=5, scoring=f1_scorer)\n",
        "\n",
        "# Calculate average scores\n",
        "knn_avg_accuracy = np.mean(knn_accuracy_scores)\n",
        "knn_avg_f1_score = np.mean(knn_f1_scores)\n",
        "\n",
        "knn_avg_accuracy, knn_avg_f1_score\n"
      ],
      "metadata": {
        "colab": {
          "base_uri": "https://localhost:8080/"
        },
        "id": "aHVGO0cZKOuK",
        "outputId": "b7491268-443f-4e8c-bf66-14d5d7574c6b"
      },
      "execution_count": 11,
      "outputs": [
        {
          "output_type": "stream",
          "name": "stderr",
          "text": [
            "/usr/local/lib/python3.10/dist-packages/sklearn/model_selection/_split.py:700: UserWarning: The least populated class in y has only 1 members, which is less than n_splits=5.\n",
            "  warnings.warn(\n",
            "/usr/local/lib/python3.10/dist-packages/sklearn/model_selection/_split.py:700: UserWarning: The least populated class in y has only 1 members, which is less than n_splits=5.\n",
            "  warnings.warn(\n"
          ]
        },
        {
          "output_type": "execute_result",
          "data": {
            "text/plain": [
              "(0.5492239975109354, 0.5130279240904185)"
            ]
          },
          "metadata": {},
          "execution_count": 11
        }
      ]
    },
    {
      "cell_type": "markdown",
      "source": [
        "# **Logistic Regression**"
      ],
      "metadata": {
        "id": "KcZ3PWe4KVF-"
      }
    },
    {
      "cell_type": "code",
      "source": [
        "from sklearn.linear_model import LogisticRegression\n",
        "\n",
        "# Initialize Logistic Regression\n",
        "log_reg = LogisticRegression(random_state=42, max_iter=1000)  # Increased max_iter for convergence\n",
        "\n",
        "# Perform 5-fold cross-validation\n",
        "log_reg_accuracy_scores = cross_val_score(log_reg, X_train, y_train, cv=5, scoring=accuracy_scorer)\n",
        "log_reg_f1_scores = cross_val_score(log_reg, X_train, y_train, cv=5, scoring=f1_scorer)\n",
        "\n",
        "# Calculate average scores\n",
        "log_reg_avg_accuracy = np.mean(log_reg_accuracy_scores)\n",
        "log_reg_avg_f1_score = np.mean(log_reg_f1_scores)\n",
        "\n",
        "log_reg_avg_accuracy, log_reg_avg_f1_score\n"
      ],
      "metadata": {
        "colab": {
          "base_uri": "https://localhost:8080/"
        },
        "id": "ekaxEeTqKW9P",
        "outputId": "79db1478-e54d-4460-c5b9-7becf8b78067"
      },
      "execution_count": 12,
      "outputs": [
        {
          "output_type": "stream",
          "name": "stderr",
          "text": [
            "/usr/local/lib/python3.10/dist-packages/sklearn/linear_model/_logistic.py:458: ConvergenceWarning: lbfgs failed to converge (status=1):\n",
            "STOP: TOTAL NO. of ITERATIONS REACHED LIMIT.\n",
            "\n",
            "Increase the number of iterations (max_iter) or scale the data as shown in:\n",
            "    https://scikit-learn.org/stable/modules/preprocessing.html\n",
            "Please also refer to the documentation for alternative solver options:\n",
            "    https://scikit-learn.org/stable/modules/linear_model.html#logistic-regression\n",
            "  n_iter_i = _check_optimize_result(\n",
            "/usr/local/lib/python3.10/dist-packages/sklearn/linear_model/_logistic.py:458: ConvergenceWarning: lbfgs failed to converge (status=1):\n",
            "STOP: TOTAL NO. of ITERATIONS REACHED LIMIT.\n",
            "\n",
            "Increase the number of iterations (max_iter) or scale the data as shown in:\n",
            "    https://scikit-learn.org/stable/modules/preprocessing.html\n",
            "Please also refer to the documentation for alternative solver options:\n",
            "    https://scikit-learn.org/stable/modules/linear_model.html#logistic-regression\n",
            "  n_iter_i = _check_optimize_result(\n"
          ]
        },
        {
          "output_type": "execute_result",
          "data": {
            "text/plain": [
              "(0.7362982485038161, 0.713971525755135)"
            ]
          },
          "metadata": {},
          "execution_count": 12
        }
      ]
    },
    {
      "cell_type": "code",
      "source": [],
      "metadata": {
        "id": "sF6e4tkiVyc_"
      },
      "execution_count": null,
      "outputs": []
    },
    {
      "cell_type": "code",
      "source": [],
      "metadata": {
        "id": "UF3-OJqbVyWf"
      },
      "execution_count": null,
      "outputs": []
    },
    {
      "cell_type": "code",
      "source": [],
      "metadata": {
        "id": "k61M9L2HVyTp"
      },
      "execution_count": null,
      "outputs": []
    },
    {
      "cell_type": "markdown",
      "source": [
        "# **Top 1000 movies from IMDb**\n",
        "\n",
        "1. `Poster_Link`: URL link to the movie poster.\n",
        "2. `Series_Title`: Title of the movie.\n",
        "3. `Released_Year`: Year the movie was released.\n",
        "4. `Certificate`: Certification of the movie.\n",
        "5. `Runtime`: Duration of the movie.\n",
        "6. `Genre`: Genre(s) of the movie.\n",
        "7. `IMDB_Rating`: IMDb rating of the movie.\n",
        "8. `Overview`: Brief overview of the movie plot.\n",
        "9. `Meta_score`: Metascore rating of the movie.\n",
        "10. `Director`: Director of the movie.\n",
        "11. `Star1`, `Star2`, `Star3`, `Star4`: Stars of the movie.\n",
        "12. `No_of_Votes`: Number of votes the movie received on IMDb.\n",
        "13. `Gross`: Gross revenue of the movie.\n",
        "\n",
        "\n",
        "\n"
      ],
      "metadata": {
        "id": "FHv6-C8iVy_6"
      }
    },
    {
      "cell_type": "code",
      "source": [
        "import pandas as pd\n",
        "\n",
        "file_path = 'imdb_top_1000.csv'\n",
        "\n",
        "# Reading the file\n",
        "imdb_data = pd.read_csv(file_path)\n",
        "imdb_data.head()"
      ],
      "metadata": {
        "colab": {
          "base_uri": "https://localhost:8080/",
          "height": 678
        },
        "id": "F_Y8M3owVyyE",
        "outputId": "ceca0da4-c0ea-4598-ce8e-525b82e27332"
      },
      "execution_count": 13,
      "outputs": [
        {
          "output_type": "execute_result",
          "data": {
            "text/plain": [
              "                                         Poster_Link  \\\n",
              "0  https://m.media-amazon.com/images/M/MV5BMDFkYT...   \n",
              "1  https://m.media-amazon.com/images/M/MV5BM2MyNj...   \n",
              "2  https://m.media-amazon.com/images/M/MV5BMTMxNT...   \n",
              "3  https://m.media-amazon.com/images/M/MV5BMWMwMG...   \n",
              "4  https://m.media-amazon.com/images/M/MV5BMWU4N2...   \n",
              "\n",
              "               Series_Title Released_Year Certificate  Runtime  \\\n",
              "0  The Shawshank Redemption          1994           A  142 min   \n",
              "1             The Godfather          1972           A  175 min   \n",
              "2           The Dark Knight          2008          UA  152 min   \n",
              "3    The Godfather: Part II          1974           A  202 min   \n",
              "4              12 Angry Men          1957           U   96 min   \n",
              "\n",
              "                  Genre  IMDB_Rating  \\\n",
              "0                 Drama          9.3   \n",
              "1          Crime, Drama          9.2   \n",
              "2  Action, Crime, Drama          9.0   \n",
              "3          Crime, Drama          9.0   \n",
              "4          Crime, Drama          9.0   \n",
              "\n",
              "                                            Overview  Meta_score  \\\n",
              "0  Two imprisoned men bond over a number of years...        80.0   \n",
              "1  An organized crime dynasty's aging patriarch t...       100.0   \n",
              "2  When the menace known as the Joker wreaks havo...        84.0   \n",
              "3  The early life and career of Vito Corleone in ...        90.0   \n",
              "4  A jury holdout attempts to prevent a miscarria...        96.0   \n",
              "\n",
              "               Director           Star1           Star2          Star3  \\\n",
              "0        Frank Darabont     Tim Robbins  Morgan Freeman     Bob Gunton   \n",
              "1  Francis Ford Coppola   Marlon Brando       Al Pacino     James Caan   \n",
              "2     Christopher Nolan  Christian Bale    Heath Ledger  Aaron Eckhart   \n",
              "3  Francis Ford Coppola       Al Pacino  Robert De Niro  Robert Duvall   \n",
              "4          Sidney Lumet     Henry Fonda     Lee J. Cobb  Martin Balsam   \n",
              "\n",
              "            Star4  No_of_Votes        Gross  \n",
              "0  William Sadler      2343110   28,341,469  \n",
              "1    Diane Keaton      1620367  134,966,411  \n",
              "2   Michael Caine      2303232  534,858,444  \n",
              "3    Diane Keaton      1129952   57,300,000  \n",
              "4    John Fiedler       689845    4,360,000  "
            ],
            "text/html": [
              "\n",
              "  <div id=\"df-605a6b64-af41-41ba-b26e-edb49bc18cca\" class=\"colab-df-container\">\n",
              "    <div>\n",
              "<style scoped>\n",
              "    .dataframe tbody tr th:only-of-type {\n",
              "        vertical-align: middle;\n",
              "    }\n",
              "\n",
              "    .dataframe tbody tr th {\n",
              "        vertical-align: top;\n",
              "    }\n",
              "\n",
              "    .dataframe thead th {\n",
              "        text-align: right;\n",
              "    }\n",
              "</style>\n",
              "<table border=\"1\" class=\"dataframe\">\n",
              "  <thead>\n",
              "    <tr style=\"text-align: right;\">\n",
              "      <th></th>\n",
              "      <th>Poster_Link</th>\n",
              "      <th>Series_Title</th>\n",
              "      <th>Released_Year</th>\n",
              "      <th>Certificate</th>\n",
              "      <th>Runtime</th>\n",
              "      <th>Genre</th>\n",
              "      <th>IMDB_Rating</th>\n",
              "      <th>Overview</th>\n",
              "      <th>Meta_score</th>\n",
              "      <th>Director</th>\n",
              "      <th>Star1</th>\n",
              "      <th>Star2</th>\n",
              "      <th>Star3</th>\n",
              "      <th>Star4</th>\n",
              "      <th>No_of_Votes</th>\n",
              "      <th>Gross</th>\n",
              "    </tr>\n",
              "  </thead>\n",
              "  <tbody>\n",
              "    <tr>\n",
              "      <th>0</th>\n",
              "      <td>https://m.media-amazon.com/images/M/MV5BMDFkYT...</td>\n",
              "      <td>The Shawshank Redemption</td>\n",
              "      <td>1994</td>\n",
              "      <td>A</td>\n",
              "      <td>142 min</td>\n",
              "      <td>Drama</td>\n",
              "      <td>9.3</td>\n",
              "      <td>Two imprisoned men bond over a number of years...</td>\n",
              "      <td>80.0</td>\n",
              "      <td>Frank Darabont</td>\n",
              "      <td>Tim Robbins</td>\n",
              "      <td>Morgan Freeman</td>\n",
              "      <td>Bob Gunton</td>\n",
              "      <td>William Sadler</td>\n",
              "      <td>2343110</td>\n",
              "      <td>28,341,469</td>\n",
              "    </tr>\n",
              "    <tr>\n",
              "      <th>1</th>\n",
              "      <td>https://m.media-amazon.com/images/M/MV5BM2MyNj...</td>\n",
              "      <td>The Godfather</td>\n",
              "      <td>1972</td>\n",
              "      <td>A</td>\n",
              "      <td>175 min</td>\n",
              "      <td>Crime, Drama</td>\n",
              "      <td>9.2</td>\n",
              "      <td>An organized crime dynasty's aging patriarch t...</td>\n",
              "      <td>100.0</td>\n",
              "      <td>Francis Ford Coppola</td>\n",
              "      <td>Marlon Brando</td>\n",
              "      <td>Al Pacino</td>\n",
              "      <td>James Caan</td>\n",
              "      <td>Diane Keaton</td>\n",
              "      <td>1620367</td>\n",
              "      <td>134,966,411</td>\n",
              "    </tr>\n",
              "    <tr>\n",
              "      <th>2</th>\n",
              "      <td>https://m.media-amazon.com/images/M/MV5BMTMxNT...</td>\n",
              "      <td>The Dark Knight</td>\n",
              "      <td>2008</td>\n",
              "      <td>UA</td>\n",
              "      <td>152 min</td>\n",
              "      <td>Action, Crime, Drama</td>\n",
              "      <td>9.0</td>\n",
              "      <td>When the menace known as the Joker wreaks havo...</td>\n",
              "      <td>84.0</td>\n",
              "      <td>Christopher Nolan</td>\n",
              "      <td>Christian Bale</td>\n",
              "      <td>Heath Ledger</td>\n",
              "      <td>Aaron Eckhart</td>\n",
              "      <td>Michael Caine</td>\n",
              "      <td>2303232</td>\n",
              "      <td>534,858,444</td>\n",
              "    </tr>\n",
              "    <tr>\n",
              "      <th>3</th>\n",
              "      <td>https://m.media-amazon.com/images/M/MV5BMWMwMG...</td>\n",
              "      <td>The Godfather: Part II</td>\n",
              "      <td>1974</td>\n",
              "      <td>A</td>\n",
              "      <td>202 min</td>\n",
              "      <td>Crime, Drama</td>\n",
              "      <td>9.0</td>\n",
              "      <td>The early life and career of Vito Corleone in ...</td>\n",
              "      <td>90.0</td>\n",
              "      <td>Francis Ford Coppola</td>\n",
              "      <td>Al Pacino</td>\n",
              "      <td>Robert De Niro</td>\n",
              "      <td>Robert Duvall</td>\n",
              "      <td>Diane Keaton</td>\n",
              "      <td>1129952</td>\n",
              "      <td>57,300,000</td>\n",
              "    </tr>\n",
              "    <tr>\n",
              "      <th>4</th>\n",
              "      <td>https://m.media-amazon.com/images/M/MV5BMWU4N2...</td>\n",
              "      <td>12 Angry Men</td>\n",
              "      <td>1957</td>\n",
              "      <td>U</td>\n",
              "      <td>96 min</td>\n",
              "      <td>Crime, Drama</td>\n",
              "      <td>9.0</td>\n",
              "      <td>A jury holdout attempts to prevent a miscarria...</td>\n",
              "      <td>96.0</td>\n",
              "      <td>Sidney Lumet</td>\n",
              "      <td>Henry Fonda</td>\n",
              "      <td>Lee J. Cobb</td>\n",
              "      <td>Martin Balsam</td>\n",
              "      <td>John Fiedler</td>\n",
              "      <td>689845</td>\n",
              "      <td>4,360,000</td>\n",
              "    </tr>\n",
              "  </tbody>\n",
              "</table>\n",
              "</div>\n",
              "    <div class=\"colab-df-buttons\">\n",
              "\n",
              "  <div class=\"colab-df-container\">\n",
              "    <button class=\"colab-df-convert\" onclick=\"convertToInteractive('df-605a6b64-af41-41ba-b26e-edb49bc18cca')\"\n",
              "            title=\"Convert this dataframe to an interactive table.\"\n",
              "            style=\"display:none;\">\n",
              "\n",
              "  <svg xmlns=\"http://www.w3.org/2000/svg\" height=\"24px\" viewBox=\"0 -960 960 960\">\n",
              "    <path d=\"M120-120v-720h720v720H120Zm60-500h600v-160H180v160Zm220 220h160v-160H400v160Zm0 220h160v-160H400v160ZM180-400h160v-160H180v160Zm440 0h160v-160H620v160ZM180-180h160v-160H180v160Zm440 0h160v-160H620v160Z\"/>\n",
              "  </svg>\n",
              "    </button>\n",
              "\n",
              "  <style>\n",
              "    .colab-df-container {\n",
              "      display:flex;\n",
              "      gap: 12px;\n",
              "    }\n",
              "\n",
              "    .colab-df-convert {\n",
              "      background-color: #E8F0FE;\n",
              "      border: none;\n",
              "      border-radius: 50%;\n",
              "      cursor: pointer;\n",
              "      display: none;\n",
              "      fill: #1967D2;\n",
              "      height: 32px;\n",
              "      padding: 0 0 0 0;\n",
              "      width: 32px;\n",
              "    }\n",
              "\n",
              "    .colab-df-convert:hover {\n",
              "      background-color: #E2EBFA;\n",
              "      box-shadow: 0px 1px 2px rgba(60, 64, 67, 0.3), 0px 1px 3px 1px rgba(60, 64, 67, 0.15);\n",
              "      fill: #174EA6;\n",
              "    }\n",
              "\n",
              "    .colab-df-buttons div {\n",
              "      margin-bottom: 4px;\n",
              "    }\n",
              "\n",
              "    [theme=dark] .colab-df-convert {\n",
              "      background-color: #3B4455;\n",
              "      fill: #D2E3FC;\n",
              "    }\n",
              "\n",
              "    [theme=dark] .colab-df-convert:hover {\n",
              "      background-color: #434B5C;\n",
              "      box-shadow: 0px 1px 3px 1px rgba(0, 0, 0, 0.15);\n",
              "      filter: drop-shadow(0px 1px 2px rgba(0, 0, 0, 0.3));\n",
              "      fill: #FFFFFF;\n",
              "    }\n",
              "  </style>\n",
              "\n",
              "    <script>\n",
              "      const buttonEl =\n",
              "        document.querySelector('#df-605a6b64-af41-41ba-b26e-edb49bc18cca button.colab-df-convert');\n",
              "      buttonEl.style.display =\n",
              "        google.colab.kernel.accessAllowed ? 'block' : 'none';\n",
              "\n",
              "      async function convertToInteractive(key) {\n",
              "        const element = document.querySelector('#df-605a6b64-af41-41ba-b26e-edb49bc18cca');\n",
              "        const dataTable =\n",
              "          await google.colab.kernel.invokeFunction('convertToInteractive',\n",
              "                                                    [key], {});\n",
              "        if (!dataTable) return;\n",
              "\n",
              "        const docLinkHtml = 'Like what you see? Visit the ' +\n",
              "          '<a target=\"_blank\" href=https://colab.research.google.com/notebooks/data_table.ipynb>data table notebook</a>'\n",
              "          + ' to learn more about interactive tables.';\n",
              "        element.innerHTML = '';\n",
              "        dataTable['output_type'] = 'display_data';\n",
              "        await google.colab.output.renderOutput(dataTable, element);\n",
              "        const docLink = document.createElement('div');\n",
              "        docLink.innerHTML = docLinkHtml;\n",
              "        element.appendChild(docLink);\n",
              "      }\n",
              "    </script>\n",
              "  </div>\n",
              "\n",
              "\n",
              "<div id=\"df-d5cd1bb8-3d55-480b-9b28-16d2f01b11fe\">\n",
              "  <button class=\"colab-df-quickchart\" onclick=\"quickchart('df-d5cd1bb8-3d55-480b-9b28-16d2f01b11fe')\"\n",
              "            title=\"Suggest charts\"\n",
              "            style=\"display:none;\">\n",
              "\n",
              "<svg xmlns=\"http://www.w3.org/2000/svg\" height=\"24px\"viewBox=\"0 0 24 24\"\n",
              "     width=\"24px\">\n",
              "    <g>\n",
              "        <path d=\"M19 3H5c-1.1 0-2 .9-2 2v14c0 1.1.9 2 2 2h14c1.1 0 2-.9 2-2V5c0-1.1-.9-2-2-2zM9 17H7v-7h2v7zm4 0h-2V7h2v10zm4 0h-2v-4h2v4z\"/>\n",
              "    </g>\n",
              "</svg>\n",
              "  </button>\n",
              "\n",
              "<style>\n",
              "  .colab-df-quickchart {\n",
              "      --bg-color: #E8F0FE;\n",
              "      --fill-color: #1967D2;\n",
              "      --hover-bg-color: #E2EBFA;\n",
              "      --hover-fill-color: #174EA6;\n",
              "      --disabled-fill-color: #AAA;\n",
              "      --disabled-bg-color: #DDD;\n",
              "  }\n",
              "\n",
              "  [theme=dark] .colab-df-quickchart {\n",
              "      --bg-color: #3B4455;\n",
              "      --fill-color: #D2E3FC;\n",
              "      --hover-bg-color: #434B5C;\n",
              "      --hover-fill-color: #FFFFFF;\n",
              "      --disabled-bg-color: #3B4455;\n",
              "      --disabled-fill-color: #666;\n",
              "  }\n",
              "\n",
              "  .colab-df-quickchart {\n",
              "    background-color: var(--bg-color);\n",
              "    border: none;\n",
              "    border-radius: 50%;\n",
              "    cursor: pointer;\n",
              "    display: none;\n",
              "    fill: var(--fill-color);\n",
              "    height: 32px;\n",
              "    padding: 0;\n",
              "    width: 32px;\n",
              "  }\n",
              "\n",
              "  .colab-df-quickchart:hover {\n",
              "    background-color: var(--hover-bg-color);\n",
              "    box-shadow: 0 1px 2px rgba(60, 64, 67, 0.3), 0 1px 3px 1px rgba(60, 64, 67, 0.15);\n",
              "    fill: var(--button-hover-fill-color);\n",
              "  }\n",
              "\n",
              "  .colab-df-quickchart-complete:disabled,\n",
              "  .colab-df-quickchart-complete:disabled:hover {\n",
              "    background-color: var(--disabled-bg-color);\n",
              "    fill: var(--disabled-fill-color);\n",
              "    box-shadow: none;\n",
              "  }\n",
              "\n",
              "  .colab-df-spinner {\n",
              "    border: 2px solid var(--fill-color);\n",
              "    border-color: transparent;\n",
              "    border-bottom-color: var(--fill-color);\n",
              "    animation:\n",
              "      spin 1s steps(1) infinite;\n",
              "  }\n",
              "\n",
              "  @keyframes spin {\n",
              "    0% {\n",
              "      border-color: transparent;\n",
              "      border-bottom-color: var(--fill-color);\n",
              "      border-left-color: var(--fill-color);\n",
              "    }\n",
              "    20% {\n",
              "      border-color: transparent;\n",
              "      border-left-color: var(--fill-color);\n",
              "      border-top-color: var(--fill-color);\n",
              "    }\n",
              "    30% {\n",
              "      border-color: transparent;\n",
              "      border-left-color: var(--fill-color);\n",
              "      border-top-color: var(--fill-color);\n",
              "      border-right-color: var(--fill-color);\n",
              "    }\n",
              "    40% {\n",
              "      border-color: transparent;\n",
              "      border-right-color: var(--fill-color);\n",
              "      border-top-color: var(--fill-color);\n",
              "    }\n",
              "    60% {\n",
              "      border-color: transparent;\n",
              "      border-right-color: var(--fill-color);\n",
              "    }\n",
              "    80% {\n",
              "      border-color: transparent;\n",
              "      border-right-color: var(--fill-color);\n",
              "      border-bottom-color: var(--fill-color);\n",
              "    }\n",
              "    90% {\n",
              "      border-color: transparent;\n",
              "      border-bottom-color: var(--fill-color);\n",
              "    }\n",
              "  }\n",
              "</style>\n",
              "\n",
              "  <script>\n",
              "    async function quickchart(key) {\n",
              "      const quickchartButtonEl =\n",
              "        document.querySelector('#' + key + ' button');\n",
              "      quickchartButtonEl.disabled = true;  // To prevent multiple clicks.\n",
              "      quickchartButtonEl.classList.add('colab-df-spinner');\n",
              "      try {\n",
              "        const charts = await google.colab.kernel.invokeFunction(\n",
              "            'suggestCharts', [key], {});\n",
              "      } catch (error) {\n",
              "        console.error('Error during call to suggestCharts:', error);\n",
              "      }\n",
              "      quickchartButtonEl.classList.remove('colab-df-spinner');\n",
              "      quickchartButtonEl.classList.add('colab-df-quickchart-complete');\n",
              "    }\n",
              "    (() => {\n",
              "      let quickchartButtonEl =\n",
              "        document.querySelector('#df-d5cd1bb8-3d55-480b-9b28-16d2f01b11fe button');\n",
              "      quickchartButtonEl.style.display =\n",
              "        google.colab.kernel.accessAllowed ? 'block' : 'none';\n",
              "    })();\n",
              "  </script>\n",
              "</div>\n",
              "\n",
              "    </div>\n",
              "  </div>\n"
            ]
          },
          "metadata": {},
          "execution_count": 13
        }
      ]
    },
    {
      "cell_type": "code",
      "source": [
        "# Data Preprocessing for the IMDb dataset\n",
        "\n",
        "# Handling missing values: filling numeric columns with the median and categorical with the mode\n",
        "imdb_data_filled = imdb_data.fillna(imdb_data.median(numeric_only=True))\n",
        "for column in imdb_data_filled.select_dtypes(include=['object']):\n",
        "    imdb_data_filled[column].fillna(imdb_data_filled[column].mode()[0], inplace=True)\n",
        "\n",
        "# Since 'Genre' is a multi-label column, we'll simplify it by taking only the first listed genre for each movie\n",
        "# This is to simplify the example to a single-label classification task\n",
        "imdb_data_filled['Genre'] = imdb_data_filled['Genre'].apply(lambda x: x.split(',')[0])\n",
        "\n",
        "# Encoding categorical variables\n",
        "le = LabelEncoder()\n",
        "for column in imdb_data_filled.select_dtypes(include=['object']):\n",
        "    if column != 'Genre':  # Excluding the target variable 'Genre'\n",
        "        imdb_data_filled[column] = le.fit_transform(imdb_data_filled[column])\n",
        "\n",
        "# Feature Selection: Removing non-informative columns like 'Poster_Link', 'Series_Title', 'Overview', 'Star1', 'Star2', 'Star3', 'Star4'\n",
        "features = imdb_data_filled.drop(columns=['Poster_Link', 'Series_Title', 'Overview', 'Star1', 'Star2', 'Star3', 'Star4', 'Genre'])\n",
        "target = imdb_data_filled['Genre']\n",
        "\n",
        "# Count the number of instances for each genre\n",
        "genre_counts = imdb_data_filled['Genre'].value_counts()\n",
        "\n",
        "# Filter out genres with less than a certain threshold (e.g., less than 10 instances)\n",
        "threshold = 10\n",
        "genres_to_keep = genre_counts[genre_counts >= threshold].index\n",
        "\n",
        "# Filter the dataset to only include these genres\n",
        "imdb_data_filtered = imdb_data_filled[imdb_data_filled['Genre'].isin(genres_to_keep)]\n",
        "\n",
        "# Filtering the features to match the filtered genres\n",
        "features_filtered = features.loc[imdb_data_filtered.index]\n",
        "\n",
        "# Splitting the filtered data into training and testing sets\n",
        "X_train_imdb, X_test_imdb, y_train_imdb, y_test_imdb = train_test_split(features_filtered, imdb_data_filtered['Genre'], test_size=0.2, random_state=42, stratify=imdb_data_filtered['Genre'])\n",
        "\n",
        "X_train_imdb.shape, X_test_imdb.shape, y_train_imdb.shape, y_test_imdb.shape\n",
        "\n",
        "\n",
        "\n"
      ],
      "metadata": {
        "colab": {
          "base_uri": "https://localhost:8080/"
        },
        "id": "_Ibx82IvWv3E",
        "outputId": "e1861031-623d-4d80-a9cd-8f1b156f2043"
      },
      "execution_count": 16,
      "outputs": [
        {
          "output_type": "execute_result",
          "data": {
            "text/plain": [
              "((790, 8), (198, 8), (790,), (198,))"
            ]
          },
          "metadata": {},
          "execution_count": 16
        }
      ]
    },
    {
      "cell_type": "markdown",
      "source": [
        "# **Decision Tree Classifier**"
      ],
      "metadata": {
        "id": "BtQgijtRXUbO"
      }
    },
    {
      "cell_type": "code",
      "source": [
        "from sklearn.tree import DecisionTreeClassifier\n",
        "from sklearn.model_selection import cross_val_score\n",
        "from sklearn.metrics import make_scorer, accuracy_score, f1_score\n",
        "\n",
        "# Initialize the Decision Tree Classifier\n",
        "dt_classifier_imdb = DecisionTreeClassifier(random_state=42)\n",
        "\n",
        "# Define scorers for cross-validation\n",
        "accuracy_scorer = make_scorer(accuracy_score)\n",
        "f1_scorer = make_scorer(f1_score, average='weighted')\n",
        "\n",
        "# Perform 5-fold cross-validation for accuracy and F1-score\n",
        "dt_accuracy_scores_imdb = cross_val_score(dt_classifier_imdb, X_train_imdb, y_train_imdb, cv=5, scoring=accuracy_scorer)\n",
        "dt_f1_scores_imdb = cross_val_score(dt_classifier_imdb, X_train_imdb, y_train_imdb, cv=5, scoring=f1_scorer)\n",
        "\n",
        "# Calculate average scores\n",
        "dt_avg_accuracy_imdb = np.mean(dt_accuracy_scores_imdb)\n",
        "dt_avg_f1_score_imdb = np.mean(dt_f1_scores_imdb)\n",
        "dt_avg_accuracy_imdb, dt_avg_f1_score_imdb\n"
      ],
      "metadata": {
        "colab": {
          "base_uri": "https://localhost:8080/"
        },
        "id": "VLM8BrXbW5sJ",
        "outputId": "a6f136dd-e076-451d-d076-0aa653d8f30a"
      },
      "execution_count": 18,
      "outputs": [
        {
          "output_type": "execute_result",
          "data": {
            "text/plain": [
              "(0.2417721518987342, 0.2409621993382498)"
            ]
          },
          "metadata": {},
          "execution_count": 18
        }
      ]
    },
    {
      "cell_type": "markdown",
      "source": [
        "# **Random Forest Classifier**"
      ],
      "metadata": {
        "id": "LBOUxtf5XeHS"
      }
    },
    {
      "cell_type": "code",
      "source": [
        "from sklearn.ensemble import RandomForestClassifier\n",
        "\n",
        "# Initialize the Random Forest Classifier\n",
        "rf_classifier_imdb = RandomForestClassifier(random_state=42)\n",
        "\n",
        "# Perform 5-fold cross-validation\n",
        "rf_accuracy_scores_imdb = cross_val_score(rf_classifier_imdb, X_train_imdb, y_train_imdb, cv=5, scoring=accuracy_scorer)\n",
        "rf_f1_scores_imdb = cross_val_score(rf_classifier_imdb, X_train_imdb, y_train_imdb, cv=5, scoring=f1_scorer)\n",
        "\n",
        "# Calculate average scores\n",
        "rf_avg_accuracy_imdb = np.mean(rf_accuracy_scores_imdb)\n",
        "rf_avg_f1_score_imdb = np.mean(rf_f1_scores_imdb)\n",
        "rf_avg_accuracy_imdb, rf_avg_f1_score_imdb"
      ],
      "metadata": {
        "colab": {
          "base_uri": "https://localhost:8080/"
        },
        "id": "NHcreR1TXcBW",
        "outputId": "e7c1205d-5ec3-4e26-b8ee-dee428f9cec2"
      },
      "execution_count": 20,
      "outputs": [
        {
          "output_type": "execute_result",
          "data": {
            "text/plain": [
              "(0.34050632911392403, 0.3009111671922525)"
            ]
          },
          "metadata": {},
          "execution_count": 20
        }
      ]
    },
    {
      "cell_type": "markdown",
      "source": [
        "# **Gaussian Naive Bayes Classifier**"
      ],
      "metadata": {
        "id": "3g_ovuqYXnK6"
      }
    },
    {
      "cell_type": "code",
      "source": [
        "from sklearn.naive_bayes import GaussianNB\n",
        "\n",
        "# Initialize Gaussian Naive Bayes Classifier\n",
        "nb_classifier_imdb = GaussianNB()\n",
        "\n",
        "# Perform 5-fold cross-validation\n",
        "nb_accuracy_scores_imdb = cross_val_score(nb_classifier_imdb, X_train_imdb, y_train_imdb, cv=5, scoring=accuracy_scorer)\n",
        "nb_f1_scores_imdb = cross_val_score(nb_classifier_imdb, X_train_imdb, y_train_imdb, cv=5, scoring=f1_scorer)\n",
        "\n",
        "# Calculate average scores\n",
        "nb_avg_accuracy_imdb = np.mean(nb_accuracy_scores_imdb)\n",
        "nb_avg_f1_score_imdb = np.mean(nb_f1_scores_imdb)\n",
        "nb_avg_accuracy_imdb, nb_avg_f1_score_imdb"
      ],
      "metadata": {
        "colab": {
          "base_uri": "https://localhost:8080/"
        },
        "id": "cNzueQHeXlWd",
        "outputId": "69775d78-c1c2-46a2-c94b-2061d443b4da"
      },
      "execution_count": 22,
      "outputs": [
        {
          "output_type": "execute_result",
          "data": {
            "text/plain": [
              "(0.31645569620253167, 0.2601339592485509)"
            ]
          },
          "metadata": {},
          "execution_count": 22
        }
      ]
    },
    {
      "cell_type": "markdown",
      "source": [
        "# **XGBoost Classifier**"
      ],
      "metadata": {
        "id": "1ETaOsIrXt7t"
      }
    },
    {
      "cell_type": "code",
      "source": [
        "from xgboost import XGBClassifier\n",
        "\n",
        "# Encoding the target variable\n",
        "le_genre = LabelEncoder()\n",
        "y_train_imdb_encoded = le_genre.fit_transform(y_train_imdb)\n",
        "y_test_imdb_encoded = le_genre.transform(y_test_imdb)\n",
        "\n",
        "# Initialize XGBoost Classifier\n",
        "xgb_classifier_imdb = XGBClassifier(random_state=42)\n",
        "\n",
        "# Perform 5-fold cross-validation\n",
        "xgb_accuracy_scores_imdb = cross_val_score(xgb_classifier_imdb, X_train_imdb, y_train_imdb_encoded, cv=5, scoring=accuracy_scorer)\n",
        "xgb_f1_scores_imdb = cross_val_score(xgb_classifier_imdb, X_train_imdb, y_train_imdb_encoded, cv=5, scoring=f1_scorer)\n",
        "\n",
        "# Calculate average scores\n",
        "xgb_avg_accuracy_imdb = np.mean(xgb_accuracy_scores_imdb)\n",
        "xgb_avg_f1_score_imdb = np.mean(xgb_f1_scores_imdb)\n",
        "xgb_avg_accuracy_imdb, xgb_avg_f1_score_imdb\n"
      ],
      "metadata": {
        "colab": {
          "base_uri": "https://localhost:8080/"
        },
        "id": "vb2XgZuIXrmT",
        "outputId": "4565cda8-ab61-458f-cd6d-17ad5bec9e56"
      },
      "execution_count": 26,
      "outputs": [
        {
          "output_type": "execute_result",
          "data": {
            "text/plain": [
              "(0.3329113924050633, 0.31129578709843947)"
            ]
          },
          "metadata": {},
          "execution_count": 26
        }
      ]
    },
    {
      "cell_type": "markdown",
      "source": [
        "# **CatBoost Classifier**"
      ],
      "metadata": {
        "id": "QqTkviVAX_VR"
      }
    },
    {
      "cell_type": "code",
      "source": [
        "from catboost import CatBoostClassifier\n",
        "\n",
        "# Initialize CatBoost Classifier\n",
        "catboost_classifier_imdb = CatBoostClassifier(random_state=42, verbose=0)  # verbose=0 to avoid lengthy outputs\n",
        "\n",
        "# Perform 5-fold cross-validation\n",
        "catboost_accuracy_scores_imdb = cross_val_score(catboost_classifier_imdb, X_train_imdb, y_train_imdb, cv=5, scoring=accuracy_scorer)\n",
        "catboost_f1_scores_imdb = cross_val_score(catboost_classifier_imdb, X_train_imdb, y_train_imdb, cv=5, scoring=f1_scorer)\n",
        "\n",
        "# Calculate average scores\n",
        "catboost_avg_accuracy_imdb = np.mean(catboost_accuracy_scores_imdb)\n",
        "catboost_avg_f1_score_imdb = np.mean(catboost_f1_scores_imdb)\n"
      ],
      "metadata": {
        "id": "PMny3RgPYADE"
      },
      "execution_count": 24,
      "outputs": []
    },
    {
      "cell_type": "code",
      "source": [
        "catboost_avg_accuracy_imdb, catboost_avg_f1_score_imdb"
      ],
      "metadata": {
        "colab": {
          "base_uri": "https://localhost:8080/"
        },
        "id": "auhP7ZInY6fu",
        "outputId": "89ef2f7f-addd-401c-a41c-8a9bc6faacfe"
      },
      "execution_count": 25,
      "outputs": [
        {
          "output_type": "execute_result",
          "data": {
            "text/plain": [
              "(0.3329113924050633, 0.31511706348956564)"
            ]
          },
          "metadata": {},
          "execution_count": 25
        }
      ]
    },
    {
      "cell_type": "markdown",
      "source": [
        "# **KNN Classifier**"
      ],
      "metadata": {
        "id": "_pgBS4GLYGhd"
      }
    },
    {
      "cell_type": "code",
      "source": [
        "from sklearn.neighbors import KNeighborsClassifier\n",
        "\n",
        "# Initialize KNN Classifier\n",
        "knn_classifier_imdb = KNeighborsClassifier()\n",
        "\n",
        "# Perform 5-fold cross-validation\n",
        "knn_accuracy_scores_imdb = cross_val_score(knn_classifier_imdb, X_train_imdb, y_train_imdb, cv=5, scoring=accuracy_scorer)\n",
        "knn_f1_scores_imdb = cross_val_score(knn_classifier_imdb, X_train_imdb, y_train_imdb, cv=5, scoring=f1_scorer)\n",
        "\n",
        "# Calculate average scores\n",
        "knn_avg_accuracy_imdb = np.mean(knn_accuracy_scores_imdb)\n",
        "knn_avg_f1_score_imdb = np.mean(knn_f1_scores_imdb)\n",
        "knn_avg_accuracy_imdb, knn_avg_f1_score_imdb"
      ],
      "metadata": {
        "colab": {
          "base_uri": "https://localhost:8080/"
        },
        "id": "62HRLG0hYEgg",
        "outputId": "7b77f8f2-e971-40fe-9b1c-10f546d453a2"
      },
      "execution_count": 27,
      "outputs": [
        {
          "output_type": "execute_result",
          "data": {
            "text/plain": [
              "(0.2037974683544304, 0.19092492593710284)"
            ]
          },
          "metadata": {},
          "execution_count": 27
        }
      ]
    },
    {
      "cell_type": "markdown",
      "source": [
        "# **Logistic Regression**"
      ],
      "metadata": {
        "id": "60zbvvDdYNQZ"
      }
    },
    {
      "cell_type": "code",
      "source": [
        "from sklearn.linear_model import LogisticRegression\n",
        "\n",
        "# Initialize Logistic Regression\n",
        "log_reg_imdb = LogisticRegression(random_state=42, max_iter=1000)  # Increased max_iter for convergence\n",
        "\n",
        "# Perform 5-fold cross-validation\n",
        "log_reg_accuracy_scores_imdb = cross_val_score(log_reg_imdb, X_train_imdb, y_train_imdb, cv=5, scoring=accuracy_scorer)\n",
        "log_reg_f1_scores_imdb = cross_val_score(log_reg_imdb, X_train_imdb, y_train_imdb, cv=5, scoring=f1_scorer)\n",
        "\n",
        "# Calculate average scores\n",
        "log_reg_avg_accuracy_imdb = np.mean(log_reg_accuracy_scores_imdb)\n",
        "log_reg_avg_f1_score_imdb = np.mean(log_reg_f1_scores_imdb)\n"
      ],
      "metadata": {
        "id": "gKNrsEJXYKNF"
      },
      "execution_count": null,
      "outputs": []
    },
    {
      "cell_type": "code",
      "source": [
        "log_reg_avg_accuracy_imdb, log_reg_avg_f1_score_imdb"
      ],
      "metadata": {
        "colab": {
          "base_uri": "https://localhost:8080/"
        },
        "id": "Tg-GS2EQZEmO",
        "outputId": "499b4f8f-c52a-464c-9336-cc544bd7ea89"
      },
      "execution_count": 29,
      "outputs": [
        {
          "output_type": "execute_result",
          "data": {
            "text/plain": [
              "(0.3075949367088608, 0.19885554473229744)"
            ]
          },
          "metadata": {},
          "execution_count": 29
        }
      ]
    },
    {
      "cell_type": "markdown",
      "source": [
        "# **Spotify dataset for the year 2023**\n",
        "\n",
        "has been successfully read. The dataset contains the following columns:\n",
        "\n",
        "1. `track_name`: Name of the track.\n",
        "2. `artist(s)_name`: Name of the artist(s).\n",
        "3. `artist_count`: Number of artists on the track.\n",
        "4. `released_year`, `released_month`, `released_day`: Release date information.\n",
        "5. `in_spotify_playlists`: Number of Spotify playlists the track is in.\n",
        "6. `in_spotify_charts`: Number of Spotify charts the track is in.\n",
        "7. `streams`: Number of streams.\n",
        "8. `in_apple_playlists`: Number of Apple playlists the track is in.\n",
        "9. Other music-related features like `bpm` (beats per minute), `key`, `mode`, percentages for `danceability`, `valence`, `energy`, `acousticness`, `instrumentalness`, `liveness`, `speechiness`.\n",
        "\n"
      ],
      "metadata": {
        "id": "w9bAjXo2Z48V"
      }
    },
    {
      "cell_type": "code",
      "source": [
        "spotify_data = pd.read_csv(\"spotify-2023.csv\", encoding='ISO-8859-1')\n",
        "spotify_data.head()"
      ],
      "metadata": {
        "colab": {
          "base_uri": "https://localhost:8080/",
          "height": 325
        },
        "id": "GxJk3ZQFaG-d",
        "outputId": "5febae95-3c5b-4980-a94d-9054758d44f1"
      },
      "execution_count": 32,
      "outputs": [
        {
          "output_type": "execute_result",
          "data": {
            "text/plain": [
              "                            track_name    artist(s)_name  artist_count  \\\n",
              "0  Seven (feat. Latto) (Explicit Ver.)  Latto, Jung Kook             2   \n",
              "1                                 LALA       Myke Towers             1   \n",
              "2                              vampire    Olivia Rodrigo             1   \n",
              "3                         Cruel Summer      Taylor Swift             1   \n",
              "4                       WHERE SHE GOES         Bad Bunny             1   \n",
              "\n",
              "   released_year  released_month  released_day  in_spotify_playlists  \\\n",
              "0           2023               7            14                   553   \n",
              "1           2023               3            23                  1474   \n",
              "2           2023               6            30                  1397   \n",
              "3           2019               8            23                  7858   \n",
              "4           2023               5            18                  3133   \n",
              "\n",
              "   in_spotify_charts    streams  in_apple_playlists  ...  bpm key   mode  \\\n",
              "0                147  141381703                  43  ...  125   B  Major   \n",
              "1                 48  133716286                  48  ...   92  C#  Major   \n",
              "2                113  140003974                  94  ...  138   F  Major   \n",
              "3                100  800840817                 116  ...  170   A  Major   \n",
              "4                 50  303236322                  84  ...  144   A  Minor   \n",
              "\n",
              "  danceability_%  valence_% energy_% acousticness_%  instrumentalness_%  \\\n",
              "0             80         89       83             31                   0   \n",
              "1             71         61       74              7                   0   \n",
              "2             51         32       53             17                   0   \n",
              "3             55         58       72             11                   0   \n",
              "4             65         23       80             14                  63   \n",
              "\n",
              "   liveness_%  speechiness_%  \n",
              "0           8              4  \n",
              "1          10              4  \n",
              "2          31              6  \n",
              "3          11             15  \n",
              "4          11              6  \n",
              "\n",
              "[5 rows x 24 columns]"
            ],
            "text/html": [
              "\n",
              "  <div id=\"df-96c25097-c05b-46d3-8bcf-d8a6b961a1f5\" class=\"colab-df-container\">\n",
              "    <div>\n",
              "<style scoped>\n",
              "    .dataframe tbody tr th:only-of-type {\n",
              "        vertical-align: middle;\n",
              "    }\n",
              "\n",
              "    .dataframe tbody tr th {\n",
              "        vertical-align: top;\n",
              "    }\n",
              "\n",
              "    .dataframe thead th {\n",
              "        text-align: right;\n",
              "    }\n",
              "</style>\n",
              "<table border=\"1\" class=\"dataframe\">\n",
              "  <thead>\n",
              "    <tr style=\"text-align: right;\">\n",
              "      <th></th>\n",
              "      <th>track_name</th>\n",
              "      <th>artist(s)_name</th>\n",
              "      <th>artist_count</th>\n",
              "      <th>released_year</th>\n",
              "      <th>released_month</th>\n",
              "      <th>released_day</th>\n",
              "      <th>in_spotify_playlists</th>\n",
              "      <th>in_spotify_charts</th>\n",
              "      <th>streams</th>\n",
              "      <th>in_apple_playlists</th>\n",
              "      <th>...</th>\n",
              "      <th>bpm</th>\n",
              "      <th>key</th>\n",
              "      <th>mode</th>\n",
              "      <th>danceability_%</th>\n",
              "      <th>valence_%</th>\n",
              "      <th>energy_%</th>\n",
              "      <th>acousticness_%</th>\n",
              "      <th>instrumentalness_%</th>\n",
              "      <th>liveness_%</th>\n",
              "      <th>speechiness_%</th>\n",
              "    </tr>\n",
              "  </thead>\n",
              "  <tbody>\n",
              "    <tr>\n",
              "      <th>0</th>\n",
              "      <td>Seven (feat. Latto) (Explicit Ver.)</td>\n",
              "      <td>Latto, Jung Kook</td>\n",
              "      <td>2</td>\n",
              "      <td>2023</td>\n",
              "      <td>7</td>\n",
              "      <td>14</td>\n",
              "      <td>553</td>\n",
              "      <td>147</td>\n",
              "      <td>141381703</td>\n",
              "      <td>43</td>\n",
              "      <td>...</td>\n",
              "      <td>125</td>\n",
              "      <td>B</td>\n",
              "      <td>Major</td>\n",
              "      <td>80</td>\n",
              "      <td>89</td>\n",
              "      <td>83</td>\n",
              "      <td>31</td>\n",
              "      <td>0</td>\n",
              "      <td>8</td>\n",
              "      <td>4</td>\n",
              "    </tr>\n",
              "    <tr>\n",
              "      <th>1</th>\n",
              "      <td>LALA</td>\n",
              "      <td>Myke Towers</td>\n",
              "      <td>1</td>\n",
              "      <td>2023</td>\n",
              "      <td>3</td>\n",
              "      <td>23</td>\n",
              "      <td>1474</td>\n",
              "      <td>48</td>\n",
              "      <td>133716286</td>\n",
              "      <td>48</td>\n",
              "      <td>...</td>\n",
              "      <td>92</td>\n",
              "      <td>C#</td>\n",
              "      <td>Major</td>\n",
              "      <td>71</td>\n",
              "      <td>61</td>\n",
              "      <td>74</td>\n",
              "      <td>7</td>\n",
              "      <td>0</td>\n",
              "      <td>10</td>\n",
              "      <td>4</td>\n",
              "    </tr>\n",
              "    <tr>\n",
              "      <th>2</th>\n",
              "      <td>vampire</td>\n",
              "      <td>Olivia Rodrigo</td>\n",
              "      <td>1</td>\n",
              "      <td>2023</td>\n",
              "      <td>6</td>\n",
              "      <td>30</td>\n",
              "      <td>1397</td>\n",
              "      <td>113</td>\n",
              "      <td>140003974</td>\n",
              "      <td>94</td>\n",
              "      <td>...</td>\n",
              "      <td>138</td>\n",
              "      <td>F</td>\n",
              "      <td>Major</td>\n",
              "      <td>51</td>\n",
              "      <td>32</td>\n",
              "      <td>53</td>\n",
              "      <td>17</td>\n",
              "      <td>0</td>\n",
              "      <td>31</td>\n",
              "      <td>6</td>\n",
              "    </tr>\n",
              "    <tr>\n",
              "      <th>3</th>\n",
              "      <td>Cruel Summer</td>\n",
              "      <td>Taylor Swift</td>\n",
              "      <td>1</td>\n",
              "      <td>2019</td>\n",
              "      <td>8</td>\n",
              "      <td>23</td>\n",
              "      <td>7858</td>\n",
              "      <td>100</td>\n",
              "      <td>800840817</td>\n",
              "      <td>116</td>\n",
              "      <td>...</td>\n",
              "      <td>170</td>\n",
              "      <td>A</td>\n",
              "      <td>Major</td>\n",
              "      <td>55</td>\n",
              "      <td>58</td>\n",
              "      <td>72</td>\n",
              "      <td>11</td>\n",
              "      <td>0</td>\n",
              "      <td>11</td>\n",
              "      <td>15</td>\n",
              "    </tr>\n",
              "    <tr>\n",
              "      <th>4</th>\n",
              "      <td>WHERE SHE GOES</td>\n",
              "      <td>Bad Bunny</td>\n",
              "      <td>1</td>\n",
              "      <td>2023</td>\n",
              "      <td>5</td>\n",
              "      <td>18</td>\n",
              "      <td>3133</td>\n",
              "      <td>50</td>\n",
              "      <td>303236322</td>\n",
              "      <td>84</td>\n",
              "      <td>...</td>\n",
              "      <td>144</td>\n",
              "      <td>A</td>\n",
              "      <td>Minor</td>\n",
              "      <td>65</td>\n",
              "      <td>23</td>\n",
              "      <td>80</td>\n",
              "      <td>14</td>\n",
              "      <td>63</td>\n",
              "      <td>11</td>\n",
              "      <td>6</td>\n",
              "    </tr>\n",
              "  </tbody>\n",
              "</table>\n",
              "<p>5 rows × 24 columns</p>\n",
              "</div>\n",
              "    <div class=\"colab-df-buttons\">\n",
              "\n",
              "  <div class=\"colab-df-container\">\n",
              "    <button class=\"colab-df-convert\" onclick=\"convertToInteractive('df-96c25097-c05b-46d3-8bcf-d8a6b961a1f5')\"\n",
              "            title=\"Convert this dataframe to an interactive table.\"\n",
              "            style=\"display:none;\">\n",
              "\n",
              "  <svg xmlns=\"http://www.w3.org/2000/svg\" height=\"24px\" viewBox=\"0 -960 960 960\">\n",
              "    <path d=\"M120-120v-720h720v720H120Zm60-500h600v-160H180v160Zm220 220h160v-160H400v160Zm0 220h160v-160H400v160ZM180-400h160v-160H180v160Zm440 0h160v-160H620v160ZM180-180h160v-160H180v160Zm440 0h160v-160H620v160Z\"/>\n",
              "  </svg>\n",
              "    </button>\n",
              "\n",
              "  <style>\n",
              "    .colab-df-container {\n",
              "      display:flex;\n",
              "      gap: 12px;\n",
              "    }\n",
              "\n",
              "    .colab-df-convert {\n",
              "      background-color: #E8F0FE;\n",
              "      border: none;\n",
              "      border-radius: 50%;\n",
              "      cursor: pointer;\n",
              "      display: none;\n",
              "      fill: #1967D2;\n",
              "      height: 32px;\n",
              "      padding: 0 0 0 0;\n",
              "      width: 32px;\n",
              "    }\n",
              "\n",
              "    .colab-df-convert:hover {\n",
              "      background-color: #E2EBFA;\n",
              "      box-shadow: 0px 1px 2px rgba(60, 64, 67, 0.3), 0px 1px 3px 1px rgba(60, 64, 67, 0.15);\n",
              "      fill: #174EA6;\n",
              "    }\n",
              "\n",
              "    .colab-df-buttons div {\n",
              "      margin-bottom: 4px;\n",
              "    }\n",
              "\n",
              "    [theme=dark] .colab-df-convert {\n",
              "      background-color: #3B4455;\n",
              "      fill: #D2E3FC;\n",
              "    }\n",
              "\n",
              "    [theme=dark] .colab-df-convert:hover {\n",
              "      background-color: #434B5C;\n",
              "      box-shadow: 0px 1px 3px 1px rgba(0, 0, 0, 0.15);\n",
              "      filter: drop-shadow(0px 1px 2px rgba(0, 0, 0, 0.3));\n",
              "      fill: #FFFFFF;\n",
              "    }\n",
              "  </style>\n",
              "\n",
              "    <script>\n",
              "      const buttonEl =\n",
              "        document.querySelector('#df-96c25097-c05b-46d3-8bcf-d8a6b961a1f5 button.colab-df-convert');\n",
              "      buttonEl.style.display =\n",
              "        google.colab.kernel.accessAllowed ? 'block' : 'none';\n",
              "\n",
              "      async function convertToInteractive(key) {\n",
              "        const element = document.querySelector('#df-96c25097-c05b-46d3-8bcf-d8a6b961a1f5');\n",
              "        const dataTable =\n",
              "          await google.colab.kernel.invokeFunction('convertToInteractive',\n",
              "                                                    [key], {});\n",
              "        if (!dataTable) return;\n",
              "\n",
              "        const docLinkHtml = 'Like what you see? Visit the ' +\n",
              "          '<a target=\"_blank\" href=https://colab.research.google.com/notebooks/data_table.ipynb>data table notebook</a>'\n",
              "          + ' to learn more about interactive tables.';\n",
              "        element.innerHTML = '';\n",
              "        dataTable['output_type'] = 'display_data';\n",
              "        await google.colab.output.renderOutput(dataTable, element);\n",
              "        const docLink = document.createElement('div');\n",
              "        docLink.innerHTML = docLinkHtml;\n",
              "        element.appendChild(docLink);\n",
              "      }\n",
              "    </script>\n",
              "  </div>\n",
              "\n",
              "\n",
              "<div id=\"df-71be3b58-5cdb-48e4-9b5f-e45554773641\">\n",
              "  <button class=\"colab-df-quickchart\" onclick=\"quickchart('df-71be3b58-5cdb-48e4-9b5f-e45554773641')\"\n",
              "            title=\"Suggest charts\"\n",
              "            style=\"display:none;\">\n",
              "\n",
              "<svg xmlns=\"http://www.w3.org/2000/svg\" height=\"24px\"viewBox=\"0 0 24 24\"\n",
              "     width=\"24px\">\n",
              "    <g>\n",
              "        <path d=\"M19 3H5c-1.1 0-2 .9-2 2v14c0 1.1.9 2 2 2h14c1.1 0 2-.9 2-2V5c0-1.1-.9-2-2-2zM9 17H7v-7h2v7zm4 0h-2V7h2v10zm4 0h-2v-4h2v4z\"/>\n",
              "    </g>\n",
              "</svg>\n",
              "  </button>\n",
              "\n",
              "<style>\n",
              "  .colab-df-quickchart {\n",
              "      --bg-color: #E8F0FE;\n",
              "      --fill-color: #1967D2;\n",
              "      --hover-bg-color: #E2EBFA;\n",
              "      --hover-fill-color: #174EA6;\n",
              "      --disabled-fill-color: #AAA;\n",
              "      --disabled-bg-color: #DDD;\n",
              "  }\n",
              "\n",
              "  [theme=dark] .colab-df-quickchart {\n",
              "      --bg-color: #3B4455;\n",
              "      --fill-color: #D2E3FC;\n",
              "      --hover-bg-color: #434B5C;\n",
              "      --hover-fill-color: #FFFFFF;\n",
              "      --disabled-bg-color: #3B4455;\n",
              "      --disabled-fill-color: #666;\n",
              "  }\n",
              "\n",
              "  .colab-df-quickchart {\n",
              "    background-color: var(--bg-color);\n",
              "    border: none;\n",
              "    border-radius: 50%;\n",
              "    cursor: pointer;\n",
              "    display: none;\n",
              "    fill: var(--fill-color);\n",
              "    height: 32px;\n",
              "    padding: 0;\n",
              "    width: 32px;\n",
              "  }\n",
              "\n",
              "  .colab-df-quickchart:hover {\n",
              "    background-color: var(--hover-bg-color);\n",
              "    box-shadow: 0 1px 2px rgba(60, 64, 67, 0.3), 0 1px 3px 1px rgba(60, 64, 67, 0.15);\n",
              "    fill: var(--button-hover-fill-color);\n",
              "  }\n",
              "\n",
              "  .colab-df-quickchart-complete:disabled,\n",
              "  .colab-df-quickchart-complete:disabled:hover {\n",
              "    background-color: var(--disabled-bg-color);\n",
              "    fill: var(--disabled-fill-color);\n",
              "    box-shadow: none;\n",
              "  }\n",
              "\n",
              "  .colab-df-spinner {\n",
              "    border: 2px solid var(--fill-color);\n",
              "    border-color: transparent;\n",
              "    border-bottom-color: var(--fill-color);\n",
              "    animation:\n",
              "      spin 1s steps(1) infinite;\n",
              "  }\n",
              "\n",
              "  @keyframes spin {\n",
              "    0% {\n",
              "      border-color: transparent;\n",
              "      border-bottom-color: var(--fill-color);\n",
              "      border-left-color: var(--fill-color);\n",
              "    }\n",
              "    20% {\n",
              "      border-color: transparent;\n",
              "      border-left-color: var(--fill-color);\n",
              "      border-top-color: var(--fill-color);\n",
              "    }\n",
              "    30% {\n",
              "      border-color: transparent;\n",
              "      border-left-color: var(--fill-color);\n",
              "      border-top-color: var(--fill-color);\n",
              "      border-right-color: var(--fill-color);\n",
              "    }\n",
              "    40% {\n",
              "      border-color: transparent;\n",
              "      border-right-color: var(--fill-color);\n",
              "      border-top-color: var(--fill-color);\n",
              "    }\n",
              "    60% {\n",
              "      border-color: transparent;\n",
              "      border-right-color: var(--fill-color);\n",
              "    }\n",
              "    80% {\n",
              "      border-color: transparent;\n",
              "      border-right-color: var(--fill-color);\n",
              "      border-bottom-color: var(--fill-color);\n",
              "    }\n",
              "    90% {\n",
              "      border-color: transparent;\n",
              "      border-bottom-color: var(--fill-color);\n",
              "    }\n",
              "  }\n",
              "</style>\n",
              "\n",
              "  <script>\n",
              "    async function quickchart(key) {\n",
              "      const quickchartButtonEl =\n",
              "        document.querySelector('#' + key + ' button');\n",
              "      quickchartButtonEl.disabled = true;  // To prevent multiple clicks.\n",
              "      quickchartButtonEl.classList.add('colab-df-spinner');\n",
              "      try {\n",
              "        const charts = await google.colab.kernel.invokeFunction(\n",
              "            'suggestCharts', [key], {});\n",
              "      } catch (error) {\n",
              "        console.error('Error during call to suggestCharts:', error);\n",
              "      }\n",
              "      quickchartButtonEl.classList.remove('colab-df-spinner');\n",
              "      quickchartButtonEl.classList.add('colab-df-quickchart-complete');\n",
              "    }\n",
              "    (() => {\n",
              "      let quickchartButtonEl =\n",
              "        document.querySelector('#df-71be3b58-5cdb-48e4-9b5f-e45554773641 button');\n",
              "      quickchartButtonEl.style.display =\n",
              "        google.colab.kernel.accessAllowed ? 'block' : 'none';\n",
              "    })();\n",
              "  </script>\n",
              "</div>\n",
              "\n",
              "    </div>\n",
              "  </div>\n"
            ]
          },
          "metadata": {},
          "execution_count": 32
        }
      ]
    },
    {
      "cell_type": "code",
      "source": [
        "# Data Preprocessing for the Spotify dataset\n",
        "\n",
        "# Handling missing values: filling numeric columns with the median and categorical with the mode\n",
        "spotify_data_filled = spotify_data.fillna(spotify_data.median(numeric_only=True))\n",
        "for column in spotify_data_filled.select_dtypes(include=['object']):\n",
        "    spotify_data_filled[column].fillna(spotify_data_filled[column].mode()[0], inplace=True)\n",
        "\n",
        "# Encoding categorical variables excluding the target variable 'mode'\n",
        "le_spotify = LabelEncoder()\n",
        "for column in spotify_data_filled.select_dtypes(include=['object']):\n",
        "    if column != 'mode':  # Excluding the target variable 'mode'\n",
        "        spotify_data_filled[column] = le_spotify.fit_transform(spotify_data_filled[column])\n",
        "\n",
        "# Feature Selection: Removing columns that might not be informative for the model\n",
        "features_spotify = spotify_data_filled.drop(columns=['track_name', 'artist(s)_name', 'mode'])\n",
        "target_spotify = spotify_data_filled['mode']\n",
        "\n",
        "# Splitting data into training and testing sets\n",
        "X_train_spotify, X_test_spotify, y_train_spotify, y_test_spotify = train_test_split(features_spotify, target_spotify, test_size=0.2, random_state=42, stratify=target_spotify)\n",
        "\n",
        "X_train_spotify.shape, X_test_spotify.shape, y_train_spotify.shape, y_test_spotify.shape\n",
        "\n"
      ],
      "metadata": {
        "colab": {
          "base_uri": "https://localhost:8080/"
        },
        "id": "AnZ3GMRsaDVC",
        "outputId": "85cf3120-1a09-45b6-d4bc-a76d971f95b7"
      },
      "execution_count": 33,
      "outputs": [
        {
          "output_type": "execute_result",
          "data": {
            "text/plain": [
              "((762, 21), (191, 21), (762,), (191,))"
            ]
          },
          "metadata": {},
          "execution_count": 33
        }
      ]
    },
    {
      "cell_type": "markdown",
      "source": [
        "- Training Features: 762 samples, 21 features\n",
        "- Testing Features: 191 samples, 21 features\n",
        "- Training Targets: 762 samples\n",
        "- Testing Targets: 191 samples"
      ],
      "metadata": {
        "id": "ElQpOaaDad7A"
      }
    },
    {
      "cell_type": "markdown",
      "source": [
        "# **Decision Tree Classifier**"
      ],
      "metadata": {
        "id": "ZhXzKzGRa23W"
      }
    },
    {
      "cell_type": "code",
      "source": [
        "dt_classifier_spotify = DecisionTreeClassifier(random_state=42)\n",
        "dt_accuracy_scores_spotify = cross_val_score(dt_classifier_spotify, X_train_spotify, y_train_spotify, cv=5, scoring=accuracy_scorer)\n",
        "dt_f1_scores_spotify = cross_val_score(dt_classifier_spotify, X_train_spotify, y_train_spotify, cv=5, scoring=f1_scorer)\n",
        "dt_avg_accuracy_spotify = np.mean(dt_accuracy_scores_spotify)\n",
        "dt_avg_f1_score_spotify = np.mean(dt_f1_scores_spotify)\n",
        "dt_avg_accuracy_spotify, dt_avg_f1_score_spotify"
      ],
      "metadata": {
        "colab": {
          "base_uri": "https://localhost:8080/"
        },
        "id": "sfOP5MJFa2K1",
        "outputId": "ea691f41-2876-4786-c200-d4c8d898efb8"
      },
      "execution_count": 34,
      "outputs": [
        {
          "output_type": "execute_result",
          "data": {
            "text/plain": [
              "(0.5445734434124527, 0.5433899061208894)"
            ]
          },
          "metadata": {},
          "execution_count": 34
        }
      ]
    },
    {
      "cell_type": "markdown",
      "source": [
        "# **Random Forest Classifier**"
      ],
      "metadata": {
        "id": "TmAbq5MOa82N"
      }
    },
    {
      "cell_type": "code",
      "source": [
        "rf_classifier_spotify = RandomForestClassifier(random_state=42)\n",
        "rf_accuracy_scores_spotify = cross_val_score(rf_classifier_spotify, X_train_spotify, y_train_spotify, cv=5, scoring=accuracy_scorer)\n",
        "rf_f1_scores_spotify = cross_val_score(rf_classifier_spotify, X_train_spotify, y_train_spotify, cv=5, scoring=f1_scorer)\n",
        "rf_avg_accuracy_spotify = np.mean(rf_accuracy_scores_spotify)\n",
        "rf_avg_f1_score_spotify = np.mean(rf_f1_scores_spotify)\n",
        "rf_avg_accuracy_spotify, rf_avg_f1_score_spotify"
      ],
      "metadata": {
        "colab": {
          "base_uri": "https://localhost:8080/"
        },
        "id": "MXP-0HOtaZrc",
        "outputId": "8aa0f9e8-f260-4057-91a1-ef9671809990"
      },
      "execution_count": 36,
      "outputs": [
        {
          "output_type": "execute_result",
          "data": {
            "text/plain": [
              "(0.5958032335741315, 0.5740080890169604)"
            ]
          },
          "metadata": {},
          "execution_count": 36
        }
      ]
    },
    {
      "cell_type": "markdown",
      "source": [
        "# **Gaussian Naive Bayes Classifier**"
      ],
      "metadata": {
        "id": "6alJDHt9bCTk"
      }
    },
    {
      "cell_type": "code",
      "source": [
        "nb_classifier_spotify = GaussianNB()\n",
        "nb_accuracy_scores_spotify = cross_val_score(nb_classifier_spotify, X_train_spotify, y_train_spotify, cv=5, scoring=accuracy_scorer)\n",
        "nb_f1_scores_spotify = cross_val_score(nb_classifier_spotify, X_train_spotify, y_train_spotify, cv=5, scoring=f1_scorer)\n",
        "nb_avg_accuracy_spotify = np.mean(nb_accuracy_scores_spotify)\n",
        "nb_avg_f1_score_spotify = np.mean(nb_f1_scores_spotify)\n",
        "nb_avg_accuracy_spotify, nb_avg_f1_score_spotify"
      ],
      "metadata": {
        "colab": {
          "base_uri": "https://localhost:8080/"
        },
        "id": "9FMqYr0ybCDO",
        "outputId": "0c28a74b-0c58-4f3c-fba5-6d0311e53973"
      },
      "execution_count": 37,
      "outputs": [
        {
          "output_type": "execute_result",
          "data": {
            "text/plain": [
              "(0.5604403164774683, 0.5604126080890504)"
            ]
          },
          "metadata": {},
          "execution_count": 37
        }
      ]
    },
    {
      "cell_type": "markdown",
      "source": [
        "# **XGBoost Classifier**"
      ],
      "metadata": {
        "id": "ru4k9OFqbKpX"
      }
    },
    {
      "cell_type": "code",
      "source": [
        "# Encoding the target variable\n",
        "le_mode = LabelEncoder()\n",
        "y_train_spotify_encoded = le_mode.fit_transform(y_train_spotify)\n",
        "y_test_spotify_encoded = le_mode.transform(y_test_spotify)\n",
        "\n",
        "# Initialize XGBoost Classifier\n",
        "xgb_classifier_spotify = XGBClassifier(random_state=42)\n",
        "\n",
        "# Perform 5-fold cross-validation\n",
        "xgb_accuracy_scores_spotify = cross_val_score(xgb_classifier_spotify, X_train_spotify, y_train_spotify_encoded, cv=5, scoring=accuracy_scorer)\n",
        "xgb_f1_scores_spotify = cross_val_score(xgb_classifier_spotify, X_train_spotify, y_train_spotify_encoded, cv=5, scoring=f1_scorer)\n",
        "\n",
        "# Calculate average scores\n",
        "xgb_avg_accuracy_spotify = np.mean(xgb_accuracy_scores_spotify)\n",
        "xgb_avg_f1_score_spotify = np.mean(xgb_f1_scores_spotify)\n",
        "xgb_avg_accuracy_spotify, xgb_avg_f1_score_spotify"
      ],
      "metadata": {
        "colab": {
          "base_uri": "https://localhost:8080/"
        },
        "id": "lC9IGiQubKWC",
        "outputId": "ad3d9645-1032-4835-e58f-95c1308b2d99"
      },
      "execution_count": 40,
      "outputs": [
        {
          "output_type": "execute_result",
          "data": {
            "text/plain": [
              "(0.6233316133470932, 0.6196829761197395)"
            ]
          },
          "metadata": {},
          "execution_count": 40
        }
      ]
    },
    {
      "cell_type": "markdown",
      "source": [
        "# **CatBoost Classifier**"
      ],
      "metadata": {
        "id": "_Z1TFrxBbWUD"
      }
    },
    {
      "cell_type": "code",
      "source": [
        "catboost_classifier_spotify = CatBoostClassifier(random_state=42, verbose=0)  # verbose=0 to avoid lengthy outputs\n",
        "catboost_accuracy_scores_spotify = cross_val_score(catboost_classifier_spotify, X_train_spotify, y_train_spotify, cv=5, scoring=accuracy_scorer)\n",
        "catboost_f1_scores_spotify = cross_val_score(catboost_classifier_spotify, X_train_spotify, y_train_spotify, cv=5, scoring=f1_scorer)\n",
        "catboost_avg_accuracy_spotify = np.mean(catboost_accuracy_scores_spotify)\n",
        "catboost_avg_f1_score_spotify = np.mean(catboost_f1_scores_spotify)\n",
        "catboost_avg_accuracy_spotify, catboost_avg_f1_score_spotify"
      ],
      "metadata": {
        "colab": {
          "base_uri": "https://localhost:8080/"
        },
        "id": "35reVxuibIZe",
        "outputId": "f45737cd-fc82-429f-db16-02611cfb1841"
      },
      "execution_count": 41,
      "outputs": [
        {
          "output_type": "execute_result",
          "data": {
            "text/plain": [
              "(0.5984434124527004, 0.5867118360698348)"
            ]
          },
          "metadata": {},
          "execution_count": 41
        }
      ]
    },
    {
      "cell_type": "markdown",
      "source": [
        "# **KNN Classifier**"
      ],
      "metadata": {
        "id": "13ACx6V2baNU"
      }
    },
    {
      "cell_type": "code",
      "source": [
        "knn_classifier_spotify = KNeighborsClassifier()\n",
        "knn_accuracy_scores_spotify = cross_val_score(knn_classifier_spotify, X_train_spotify, y_train_spotify, cv=5, scoring=accuracy_scorer)\n",
        "knn_f1_scores_spotify = cross_val_score(knn_classifier_spotify, X_train_spotify, y_train_spotify, cv=5, scoring=f1_scorer)\n",
        "knn_avg_accuracy_spotify = np.mean(knn_accuracy_scores_spotify)\n",
        "knn_avg_f1_score_spotify = np.mean(knn_f1_scores_spotify)\n",
        "knn_avg_accuracy_spotify, knn_avg_f1_score_spotify"
      ],
      "metadata": {
        "colab": {
          "base_uri": "https://localhost:8080/"
        },
        "id": "VY54gXY8bbWi",
        "outputId": "675c90ab-252c-4c15-81c3-df7b51026745"
      },
      "execution_count": 42,
      "outputs": [
        {
          "output_type": "execute_result",
          "data": {
            "text/plain": [
              "(0.5327399380804954, 0.5282961919614629)"
            ]
          },
          "metadata": {},
          "execution_count": 42
        }
      ]
    },
    {
      "cell_type": "markdown",
      "source": [
        "# **Logistic Regression**"
      ],
      "metadata": {
        "id": "rXfQNIuUbc3R"
      }
    },
    {
      "cell_type": "code",
      "source": [
        "log_reg_spotify = LogisticRegression(random_state=42, max_iter=1000)\n",
        "log_reg_accuracy_scores_spotify = cross_val_score(log_reg_spotify, X_train_spotify, y_train_spotify, cv=5, scoring=accuracy_scorer)\n",
        "log_reg_f1_scores_spotify = cross_val_score(log_reg_spotify, X_train_spotify, y_train_spotify, cv=5, scoring=f1_scorer)\n",
        "log_reg_avg_accuracy_spotify = np.mean(log_reg_accuracy_scores_spotify)\n",
        "log_reg_avg_f1_score_spotify = np.mean(log_reg_f1_scores_spotify)"
      ],
      "metadata": {
        "id": "IYDDi2h4bfOd"
      },
      "execution_count": null,
      "outputs": []
    },
    {
      "cell_type": "code",
      "source": [
        "log_reg_avg_accuracy_spotify, log_reg_avg_f1_score_spotify"
      ],
      "metadata": {
        "colab": {
          "base_uri": "https://localhost:8080/"
        },
        "id": "n4Y3WzDhb1E6",
        "outputId": "c95b0ba7-69d9-4eae-9056-09bd0ebe29f7"
      },
      "execution_count": 44,
      "outputs": [
        {
          "output_type": "execute_result",
          "data": {
            "text/plain": [
              "(0.5696078431372549, 0.5455150581669634)"
            ]
          },
          "metadata": {},
          "execution_count": 44
        }
      ]
    }
  ]
}